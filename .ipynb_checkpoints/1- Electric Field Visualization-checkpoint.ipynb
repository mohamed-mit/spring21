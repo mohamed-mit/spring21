{
 "cells": [
  {
   "cell_type": "markdown",
   "metadata": {},
   "source": [
    "<h1><b><font color=\"red\">WARNING: if you are working on-line and close the tab you will loose your work!</font></b> </h1>\n",
    "<h2><b><font color=\"red\"> Remember to save your work from time to time by clicking on the cloud with the arrow pointing down. In this way, if you accidentally close the tab, you can load the notebook again and recover your work by clicking on the the cloud with the arrow pointing up.</font></b></h2>\n",
    "\n",
    "Run the cell below to start a session."
   ]
  },
  {
   "cell_type": "code",
   "execution_count": null,
   "metadata": {},
   "outputs": [],
   "source": [
    "from new_session import *\n",
    "start_session()"
   ]
  },
  {
   "cell_type": "markdown",
   "metadata": {},
   "source": [
    "<h1>Calculation and Visualization of Electric Fields</h1>\n",
    "\n",
    "In this lab, you will \n",
    "\n",
    "<ol>\n",
    "    <li> Calculate the E-field produced by a point charge.</li>\n",
    "    <li> Run a code utilizing the VPython package to visualize the superposition of electric fields created by point charges in a square.</li>\n",
    "    <li> Run a code utilizing the VPython package to visualize the electric field produced by a dipole at given points in space.</li>\n",
    "</ol>\n",
    "\n",
    "We provide you with a code that's mostly ready to use. You just need to fill in a few lines and run it.\n",
    "\n",
    "If you are not familiar with Python, please familiarize yourself by using the <b>Python Warmup</b> notebook which is in the same directory as this notebook. \n"
   ]
  },
  {
   "cell_type": "code",
   "execution_count": null,
   "metadata": {},
   "outputs": [],
   "source": [
    "#Here we're importing the vpython package used to draw the charges and field arrows\n",
    "from vpython import *\n",
    "\n",
    "\n",
    "#Here we will complete a function that calculates the E-field of a point charge at some point P in space\n",
    "\n",
    "def calculate_E(q,r_S,r_P):\n",
    "    \n",
    "    \"\"\"The function takes the following inputs:\n",
    "    q: value of the point charge in C,\n",
    "    r_S: [x_S,y_S,z_S] coordinates of the source point in m,\n",
    "    r_P: [x_P,y_P,z_P] coordinates of point P in m\n",
    "    The function returns [E_x,E_y,E_z], the x,y & z components of the E field at point P in SI units\"\"\"\n",
    " \n",
    "    #Defining the constants epsilon_0 and k in SI units\n",
    "    \n",
    "    e0 = 8.854187817e-12  \n",
    "    k = 1.0 / (4 * pi * e0)\n",
    "\n",
    "    # First: Calculate the distance rSP between the charge and point P: \n",
    "    # Reminder 1: use sqrt( ) for square root and x**2 for x^2. \n",
    "    # Reminder 2: the coordinates are elements of a list; for example, for the position of the charge\n",
    "    # x_S = r_S[0], y_S= r_S[1], z_S=r_S[2]. \n",
    "\n",
    "    #rSP = UNCOMMENT AND FILL IN HERE AND THE PARTS WHERE IT SAYS FILL IN\n",
    "         \n",
    "    \n",
    "    # Second: Calculate the field components using constants, rSP, and the coordinates of q and P as needed\n",
    "    # Hint  Review (eq. 1) for the E-field.\n",
    "    \n",
    "    #E_x = FILL IN\n",
    "    #E_y = FILL IN\n",
    "    #E_z = FILL IN\n",
    "\n",
    "     \n",
    "    return([E_x,E_y,E_z])\n",
    "\n",
    "# Manual test cases:\n",
    "print(calculate_E(1e-9,[0,0,0],[0,2,0]),\"N/C\")       #should return [0.0, 2.246887946999478, 0.0] N/C\n",
    "print(calculate_E(-5e-9,[-2,1,0],[0,-3,2]),\"N/C\")    #should return [-0.7644068026886633, 1.5288136053773267, -0.7644068026886633] N/C\n",
    "print(calculate_E(-2e-9,[-1,3,-2],[-4,-3,-3]),\"N/C\") #should return [0.17284463695641594, 0.3456892739128319, 0.05761487898547198] N/C\n"
   ]
  },
  {
   "cell_type": "markdown",
   "metadata": {},
   "source": [
    "<b>Optional reflection:</b> how would you modify equation 1 and the code above to use the unit vector of $\\vec{\\mathbf{r}}_P-\\vec{\\mathbf{r}}_S$?"
   ]
  },
  {
   "cell_type": "markdown",
   "metadata": {},
   "source": [
    "<h2>Time to visualize those vectors!</h2> <br> Only proceed to the following part if you finished task 1. The whole visualization program is complete and ready to use, but it will run only after you run the previous part correctly.\n",
    "\n",
    "In this part, we will use our program to analyze some charge configurations.\n",
    "\n",
    "<h2>Task 2: Four point charges at the corners of a square with center at the origin. </h2>\n",
    "<img src=\"images/square.png\" width=200 />\n",
    "\n",
    "<ol>\n",
    "    <li> On a piece of paper, please draw the configuration shown in the picture above and determine qualitatively (without calculations!) the direction of the electric field produced by each charge at P and the net electric field at P.</li>\n",
    "    <li>  When you are done with your drawing, check if your answer matches the one obtained by finishing up and running the visualization below; use $Q = {10}^{-10} C$ (syntax hint, ${10}^{-10} $ can be written as 1e-10)  and the side of the square  $d= 2m$.  </li>\n",
    "    <li> Please attach a screenshot of the sketch with your prediction, a screenshot of your visualization, and a short comment e.g., maybe in your prediction one component was pointing to the right instead of to the left: you do not need to fix it, but try to reflect on the reason why this is wrong  ; submit everything with your pset.\n",
    "</ol>\n",
    "        \n",
    "<b>Note:</b> If your Calculate_E( ) function above is ready, you don't need to change the draw_configuration() function; just uncomment and edit the lines that say FILL IN. In this visualization the E field produced by positive charges is in <b><font color=\"red\"> red</b>, the E field produced by negative charges is <b><font color=\"blue\"> blue</b>  and the net electric field at a given location is in <b><font color=\"green\"> green</b>. \n"
   ]
  },
  {
   "cell_type": "code",
   "execution_count": null,
   "metadata": {
    "collapsed": true
   },
   "outputs": [],
   "source": [
    "\n",
    "\n",
    "# This is the function to draw the configuration and the fields. You don't need to read through this function\n",
    "# Just treat it as a black box that draws the configuration (unless you're interested in knowing how it works :) )\n",
    "def draw_configuration(charges,loc,points,draw_contributions = True):\n",
    "    \"\"\"the E field produced by positive charges is in red, the E field produced by negative charges is blue  and the net electric field \n",
    "    at a given location is in green\"\"\"\n",
    "    scene = canvas() \n",
    "    for point in points:\n",
    "        Es = [calculate_E(charges[index],loc[index],point) for index in range(len(charges))]\n",
    "        E_tot = [sum(E) for E in zip(*Es)]\n",
    "        colors = [color.blue if charge<0 else color.red for charge in charges]\n",
    "        radii = [0.5e9*abs(charge) for charge in charges]\n",
    "        for index in range(len(charges)):\n",
    "            sphere(pos=vector(loc[index][0],loc[index][1],loc[index][2]), radius=radii[index], color=colors[index])\n",
    "        if mag(vector(E_tot[0], E_tot[1],E_tot[2])) >0:\n",
    "            Earrow_tot=arrow(pos=vector(point[0],point[1],point[2]), axis=vector(E_tot[0], E_tot[1],E_tot[2]), shaftwidth=0.05,color=color.green)\n",
    "        if draw_contributions:\n",
    "            for index in range(len(Es)):\n",
    "                E = Es[index]\n",
    "                arrow(pos=vector(point[0],point[1],point[2]), axis=vector(E[0], E[1],E[2]),  shaftwidth=0.03,color=colors[index])\n",
    "\n",
    "\n",
    "# To run the code, just supply the draw_configuration( ) function with the charges, their locations and \n",
    "# the points where you want to calculate E\n",
    "\n",
    "# charges =     FILL IN          # List [] Fill in with the list of the values of the charges in C\n",
    "# locations =  FILL IN  # List of lists [[x_S1,y_S1,z_S1],[x_S2,y_S2,z_S2],...] - Fill in list of positions of charges in m\n",
    "# points =        FILL IN                 #List of lists  [[x_P1,y_P1,z_P1],[x_P2,y_P2,z_P2],...]   - Fill in list of positions (in m) of points where to calculate E-field \n",
    "                                          # For this part of the pset you are calculating the electric field only\n",
    "                                          # at one point, so this list has only one list element\n",
    "\n",
    "# Uncomment the line below to run \n",
    "\n",
    "# draw_configuration(charges,locations,points)\n",
    "\n",
    "#The first run takes about 10 seconds to load. \n",
    "#Please save a screenshot of your output as we will ask you to submit it. \n",
    "#You're welcome to experiment with the above values, e.g. change the signs, values, locations of charges."
   ]
  },
  {
   "cell_type": "markdown",
   "metadata": {},
   "source": [
    "<h2>Task 3: Visualize the electric field of a dipole along its axis of symmetry </h2>\n",
    "<img src=\"images/dipole.png\" height=20 />\n",
    "\n",
    "Now, we will use the program we built to draw the E-field of a dipole at different points along the x-axis. This dipole dipole lies along the y-axis. The origin of the coordinate system is at the middle point between the two charges.\n",
    "\n",
    "<ol>\n",
    "    <li> Before running the simulation, sketch on your notebook the qualitative (no calculations) net E-field vectors at five different points along the x-axis.</li>\n",
    "     <li> You only need to modify the lists below that define the values and locations of charges and the points to draw the field at.  In the simulation use  $Q = {10}^{-10} C$ and the distance between charges $d= 3m$. Check if your drawing matches the output of the simulation. Draw the field at five points along the x-axis within the range $x \\in$ [-2,2] m. \n",
    "</li>\n",
    "    <li> Please attach a screenshot of the sketch with your prediction, a screenshot of your visualization, and a short comment e.g., maybe in your prediction one component was pointing up instead of down; try to reflect on the reason why this is wrong  so you can learn from it. Submit everything with your pset.\n",
    "</ol>\n",
    "\n"
   ]
  },
  {
   "cell_type": "code",
   "execution_count": null,
   "metadata": {},
   "outputs": [],
   "source": [
    "#Students to fill in these values\n",
    "#charges = FILL IN\n",
    "#locations = FILL IN\n",
    "#points = FILL IN\n",
    "\n",
    "draw_configuration(charges,locations,points)"
   ]
  },
  {
   "cell_type": "markdown",
   "metadata": {
    "collapsed": true
   },
   "source": [
    "Finally, we strongly encourage you to explore more charge configurations and play around with the values and location of charges. For example, plot the electric field of the dipole at points not along the symmetry axis. Or think of any charge configuration you're interested in and explore the fields it creates."
   ]
  },
  {
   "cell_type": "markdown",
   "metadata": {},
   "source": [
    "<h2>Deliverables: what do you need to turn in?</h2>\n",
    "\n",
    "Turn in screenshots and comments as described under Task 2 and Task 3."
   ]
  }
 ],
 "metadata": {
  "kernelspec": {
   "display_name": "Python 3 (ipykernel)",
   "language": "python",
   "name": "python3"
  },
  "language_info": {
   "codemirror_mode": {
    "name": "ipython",
    "version": 3
   },
   "file_extension": ".py",
   "mimetype": "text/x-python",
   "name": "python",
   "nbconvert_exporter": "python",
   "pygments_lexer": "ipython3",
   "version": "3.9.13"
  },
  "vscode": {
   "interpreter": {
    "hash": "aee8b7b246df8f9039afb4144a1f6fd8d2ca17a180786b69acc140d282b71a49"
   }
  }
 },
 "nbformat": 4,
 "nbformat_minor": 1
}
