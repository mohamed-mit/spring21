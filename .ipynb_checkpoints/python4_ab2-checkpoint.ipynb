{
 "cells": [
  {
   "cell_type": "code",
   "execution_count": null,
   "metadata": {
    "collapsed": false
   },
   "outputs": [],
   "source": [
    "from new_session import *\n",
    "start_session()"
   ]
  },
  {
   "cell_type": "markdown",
   "metadata": {},
   "source": [
    "<h1>Motion of Charged Objects in Electric and Magnetic Fields</h1>\n",
    "\n",
    "In this lab, you will \n",
    "\n",
    "<ol>\n",
    "    <li> Calculate the net force acting on a charged object due to both E and B fields.</li>\n",
    "    <li> Update the velocity and position of the object based on the force acting on it using Newton's 2nd law.</li>\n",
    "    <li> Run a visualization of a charged particle moving through uniform B and E fields.</li>\n",
    "    <li> Run a visualization of the cyclotron accelerator.</li>\n",
    "</ol>\n",
    "\n"
   ]
  },
  {
   "cell_type": "markdown",
   "metadata": {},
   "source": [
    "<h2>Task 1: Calculate the Lorentz Force on a Charged Particle & Update its Velocity and Position</h2>\n",
    "\n",
    "When a charged object is within a region of Electric and/or Magnetic fields, the net force on it can be calculated as:\n",
    "\n",
    "$$\\vec{\\mathbf{F}} = q\\vec{\\mathbf{E}} + q\\vec{\\mathbf{v}} \\times \\vec{\\mathbf{B}}$$\n",
    "\n",
    "This net electromagnetic force is called the Lorentz force.\n",
    "\n",
    "To find the trajectory of the charged object within the field(s), we need to utilize Newton's 2nd law to examine the effect of the Lorentz force on the momentum (and hence velocity) of the object.\n",
    "\n",
    "$$\\vec{\\mathbf{p}_f} = \\vec{\\mathbf{p}_i} + \\int_{t_i}^{t_f} \\vec{\\mathbf{F}} dt$$\n",
    "\n",
    "One way to build a simulation that tracks the trajectory of the system is to divide the time interval $(t_f - t_i)$ into small time-steps $dt$$ such that the we can treat the force as a constant during each short time interval. Then we can update the velocity and position vector after each time-step as follows:\n",
    "\n",
    "$$\\vec{\\mathbf{v}}(t+dt) = \\vec{\\mathbf{v}}(t) + \\dfrac{\\vec{\\mathbf{F}}}{m}dt$$\n",
    "\n",
    "$$\\vec{\\mathbf{r}}(t+dt) = \\vec{\\mathbf{r}}(t) + \\vec{\\mathbf{v}}(t) dt + \\frac{1}{2} \\frac{\\vec{\\mathbf{F}}}{m} (dt)^2$$ [Note that the last term is of order $(dt)^2$ and hence can be ignored if $dt$ is small enough]\n",
    "\n",
    "<b>In this task, you will complete three functions that will be used to calculate the trajectory of a charged object</b>:\n",
    "\n",
    "1- <b>Lorentz_F(q,v,E,B)</b>: Returns the Lorentz force on a charged object\n",
    "\n",
    "2- <b>update_v(vi,m,F,dt)</b>: Returns $\\vec{\\mathbf{v}}(t+dt)$ given $\\vec{\\mathbf{v}}(t)$\n",
    "\n",
    "3- <b>update_position(ri,vi,m,F,dt)</b>: Returns $\\vec{\\mathbf{r}}(t+dt)$ given $\\vec{\\mathbf{r}}(t)$ and $\\vec{\\mathbf{v}}(t)$\n",
    "\n",
    "Each function is missing only one line of code where you will implement the equations provided above. Task 2 is designed such that you can test whether your functions work properly or not."
   ]
  },
  {
   "cell_type": "code",
   "execution_count": null,
   "metadata": {
    "collapsed": true
   },
   "outputs": [],
   "source": [
    "from vpython import *\n",
    "\n",
    "\n",
    "def Lorentz_F(q,v,E,B):\n",
    "    # calculates and returns the Lorentz force given:\n",
    "    # q= charge of object, v= velocity vector, E= Electric field vector and B= Magnetic field vector\n",
    "    # In vpython, cross(A,B) returns the cross product A x B\n",
    "    F = q*(E+cross(v,B))\n",
    "    return F\n",
    "def update_v(vi,m,F,dt):\n",
    "    # calculates and returns the final velocity vector after a short time-step, i.e. v(t+dt) given:\n",
    "    # vi = initial velocity v(t), m = mass, F = net force on the object and dt = time step\n",
    "    vf = vi + F*dt/m\n",
    "    return vf\n",
    "def update_position(ri,vi,m,F,dt):\n",
    "    # calculates and returns the final position vector after a short time-step, i.e. r(t+dt) given:\n",
    "    # ri = initial position v(t), vi = initial velocity v(t), m = mass, F = net force on the object and dt = time step\n",
    "    rf = ri + vi*dt + 0.5*F*dt*dt/m\n",
    "    return rf\n",
    "\n",
    "fns = [Lorentz_F,update_v,update_position]"
   ]
  },
  {
   "cell_type": "markdown",
   "metadata": {},
   "source": [
    "<h2>Task 2: Track The Motion of a Charged Object Within Uniform E and B Fields</h2>\n",
    "\n",
    "We will now test the correctness of the functions you built by using them to track the motion of a charged object in uniform fields. \n",
    "\n",
    "We will focus on a scenario where a charged object with charge $q$ and mass $m$ initially moving in the x direction with some velocity $v_x$ goes through a region of uniform vertical E field $E_y$ and/or a uniform B field in the z-direction $B_z$. Note that the quantities $q, v_x, E_y, B_z$ could be positive, zero or negative and $v_y=v_z=0$."
   ]
  },
  {
   "cell_type": "markdown",
   "metadata": {},
   "source": [
    "<h3>Task 2a: Motion in a uniform E field</h3>\n",
    "\n",
    "We provide you with a ready function <b>simulate_motion()</b> that uses the functions that you built in Task 1, (<b> Lorentz_F(  )</b>, <b> update_v( )</b>, and <b>update_position( ) </b>), to track the motion of the charged object. \n",
    "Please run the cell below to start the simulation of a positive charged object inside a uniform $\\vec{\\mathbf{E}} = E_y \\;\\hat{\\mathbf{j}} $. Use the following values as a starting point:\n",
    "\n",
    "$q = 1 \\;nC,\n",
    "m = 10^{-27}\\; kg,\n",
    "v_x = 4 \\; m/s,\n",
    "v_y = 0,\n",
    "v_z = 0, $ (particle initially moving along the x-axis only),\n",
    "$E_y = 1\\; N/C,\n",
    "B_z = 0 \\;T, \n",
    "total time = 20 \\;s$\n",
    "\n",
    "Does the simulation give you the expected behavior? Explain. (If not, please have an instructor check your code)."
   ]
  },
  {
   "cell_type": "code",
   "execution_count": null,
   "metadata": {
    "collapsed": false
   },
   "outputs": [],
   "source": [
    "from simulate_motion import simulate_motion\n",
    "simulate_motion(q=1e-9,m=1e-27,vx=4,vy=0, vz=0, Ey=1,Bz=0,total_time = 20,fns=fns)"
   ]
  },
  {
   "cell_type": "markdown",
   "metadata": {},
   "source": [
    "Now, it's time for you to change some input values! Examine how the path changes if you:\n",
    "\n",
    "<ul>\n",
    "    <li>flip the sign of some subset of {velocity, E field, charge}</li>\n",
    "    <li>ncrease decrease the initial speed of the charge and/or the field strength, keeping Bz =0, vy=vz=0</li>\n",
    "</ul>\n",
    "   \n",
    "<b>Take screenshots of the final simulation results of at least two different configurations</b>. \n",
    "\n",
    "\n",
    "If any configuration gives you an unexpected path, check your code with an instructor.\n",
    "\n"
   ]
  },
  {
   "cell_type": "code",
   "execution_count": null,
   "metadata": {
    "collapsed": false,
    "scrolled": false
   },
   "outputs": [],
   "source": [
    "simulate_motion(q=1e-9,m=1e-27,vx=4,vy=0,vz=0,Ey=-1,Bz=0,total_time = 20,fns=fns)"
   ]
  },
  {
   "cell_type": "markdown",
   "metadata": {},
   "source": [
    "<h3>Task 2b: Motion in a uniform B field</h3>\n",
    "Now we'll run the simulation of a  charged object inside a uniform perpindicular magnetic field. Use the following values as a starting point:\n",
    "\n",
    "$q = 1\\;nC,\n",
    "m = 10^{-27} \\;kg,\n",
    "v_x = 4\\; m/s, vy=0, vz=0\n",
    "E_y = 0\\; N/C,\n",
    "B_z = 1\\; T, \n",
    "total time = 10s$\n",
    "\n",
    "Does the simulation give you the expected behavior? Explain. (If not, please have an instructor check your code)."
   ]
  },
  {
   "cell_type": "code",
   "execution_count": null,
   "metadata": {
    "collapsed": false
   },
   "outputs": [],
   "source": [
    "simulate_motion(q=1e-9,m=1e-27,vx=4,vy=0,vz=0,Ey=0,Bz=1,total_time = 10,fns=fns)"
   ]
  },
  {
   "cell_type": "markdown",
   "metadata": {},
   "source": [
    "<b>I</b> - Keeping Ey =0 and vy=vz=0, examine how the path changes if you:\n",
    "\n",
    "<ul>\n",
    "    <li> flip the sign of some subset of {vx, B field, charge}, </li>\n",
    "    <li> increase or decrease the initial vx of the charge and/or the field strength, </li>\n",
    "</ul>\n",
    "\n",
    "<b>II</b> - Predict the motion of the charge when the initial velocity has a y-componet keeping Ey=0 and vz=0. Run the simulation and check your prediction\n",
    "\n",
    "<b>III</b> - Predict the motion of the charge when the initial velocity has a z-component keeping Ey=0. Run the simulation and check your prediction\n",
    "\n",
    "<b>Take screenshots of the final simulation results of at least two different configurations. Please, indicate the input given to functions.</b>. \n",
    "\n",
    "If any configuration gives you an unexpected path, check your code with an instructor.\n",
    "\n",
    "Note: This simulation is a view from the +z-axis so the magnetic field vectors are pointing towards you. You can change the view of the visualization by right-clicking with the mouse. "
   ]
  },
  {
   "cell_type": "code",
   "execution_count": null,
   "metadata": {
    "collapsed": true
   },
   "outputs": [],
   "source": [
    "simulate_motion(q=1e-9,m=1e-27,vx=4,vy=0,vz=0, Ey=0,Bz=1,total_time = 10,fns=fns)"
   ]
  },
  {
   "cell_type": "markdown",
   "metadata": {},
   "source": [
    "<h3>Task 2c: Motion in both uniform E and B fields</h3>\n",
    "\n",
    "Now that we know your code simulates the charged particle correctly, let's explore what happens if you switch on both fields at the same time. Use the given values and check what happens:\n",
    "\n",
    "$q = 1\\;nC,\n",
    "m = 10^{-27} \\;kg,\n",
    "v_x = 4 \\;m/s, vy=0, vz = 0,\n",
    "E_y = 1\\; N/C, \n",
    "B_z = 1 \\;T, \n",
    "total time = 20\\;s$\n",
    "\n",
    "P.S. Details of the cool motion you should see are beyond what we studied in class but you can read more about it here if you're interested. [Anyone has an easy to read reference?]"
   ]
  },
  {
   "cell_type": "code",
   "execution_count": null,
   "metadata": {
    "collapsed": true
   },
   "outputs": [],
   "source": [
    "simulate_motion(q=1e-9,m=1e-27,vx=4,vy=0,vz=0, Ey=1,Bz=1,total_time = 20,fns=fns)"
   ]
  },
  {
   "cell_type": "markdown",
   "metadata": {},
   "source": [
    "<b>Take a screenshot of the final outcome of the above path, Please, indicate the input given to functions.</b>\n",
    "\n",
    "<b> Question: what parameters will you use to make the object move with a constant velocity? Explain your reasoning and provide a screenshot of the straight line path using the next cell.</b>"
   ]
  },
  {
   "cell_type": "code",
   "execution_count": null,
   "metadata": {
    "collapsed": false
   },
   "outputs": [],
   "source": [
    "simulate_motion(q=1e-9,m=1e-27,vx=4,vy=0,vz=0, Ey=1,Bz=1,total_time = 20,fns=fns)"
   ]
  },
  {
   "cell_type": "markdown",
   "metadata": {},
   "source": [
    "<h2>Task 3: Cyclotron motion </h2>\n",
    "\n",
    "Finally, we will use our code to simulate the motion of a particle inside a cyclotron. A cyclotron is a device used to accelerate charges using a region with uniform E field. As soon as the object leaves the E-field region, it enters a uniform magnetic field that rotates it such that it goes through the E-field region again to get accelerated more. The E field has to switch direction every half cycle as the object keeps entering it with alternating velocity directions. Run the cell below to simulate the motion inside a cyclotron.\n",
    "<img src=\"images/cyclotron.gif\" width=500 />"
   ]
  },
  {
   "cell_type": "code",
   "execution_count": null,
   "metadata": {
    "collapsed": true
   },
   "outputs": [],
   "source": [
    "from cyclotron import cyclotron\n",
    "cyclotron(E=0.3,B=4)"
   ]
  },
  {
   "cell_type": "markdown",
   "metadata": {},
   "source": [
    "<h3>Questions</h3>\n",
    "\n",
    "- If you want the charged particle to pass through the accelerating middle region as many times as possible, would you increase or decrease the magnitude of B? Explain your logic and verify using the simulation.\n",
    "\n",
    "\n",
    "- As the particle gains more speed each cycle, does the period/frequency of one cycle change from one cycle to another? Explain your logic."
   ]
  },
  {
   "cell_type": "code",
   "execution_count": null,
   "metadata": {
    "collapsed": true
   },
   "outputs": [],
   "source": []
  }
 ],
 "metadata": {
  "kernelspec": {
   "display_name": "Python 3",
   "language": "python",
   "name": "python3"
  },
  "language_info": {
   "codemirror_mode": {
    "name": "ipython",
    "version": 3
   },
   "file_extension": ".py",
   "mimetype": "text/x-python",
   "name": "python",
   "nbconvert_exporter": "python",
   "pygments_lexer": "ipython3",
   "version": "3.4.9"
  }
 },
 "nbformat": 4,
 "nbformat_minor": 5
}
