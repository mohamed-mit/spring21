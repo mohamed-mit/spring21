{
 "cells": [
  {
   "cell_type": "code",
   "execution_count": null,
   "metadata": {
    "collapsed": true
   },
   "outputs": [],
   "source": [
    "from new_session import *\n",
    "start_session()"
   ]
  },
  {
   "cell_type": "markdown",
   "metadata": {},
   "source": [
    "<h1>Calculation and Visualization of Electric Fields</h1>\n",
    "\n",
    "In this lab, you will \n",
    "\n",
    "<ol>\n",
    "    <li> Calculate the E-field produced by a point charge.</li>\n",
    "    <li> Run a code utilizing the VPython package to visualize the superposition of electric fields created by point charges in a square.</li>\n",
    "    <li> Run a code utilizing the VPython package to visualize the electric field produced by a dipole at given points in space.</li>\n",
    "</ol>\n",
    "\n",
    "We provide you with a code that's mostly ready to use. You just need to fill in a few lines and run it.\n",
    "\n",
    "If you are not familiar with Python, please familiarize yourself by using the <b>Python Warmup</b> notebook which is in the same directory as this notebook. \n"
   ]
  },
  {
   "cell_type": "markdown",
   "metadata": {},
   "source": [
    "<h2>Task 1: Calculate the electric field of a point charge</h2>\n",
    "\n",
    "The electric field produced by a point charge $q$ at a point P in space is given by \n",
    "\n",
    "\n",
    "$$\\vec{\\mathbf{E}} =\\frac{kq}{| \\vec{\\mathbf{r}}_P-\\vec{\\mathbf{r}}_S |^2}\\frac{( \\vec{\\mathbf{r}}_P-\\vec{\\mathbf{r}}_S )}{| \\vec{\\mathbf{r}}_P-\\vec{\\mathbf{r}}_S |}=kq\\frac{( \\vec{\\mathbf{r}}_P-\\vec{\\mathbf{r}}_S )}{| \\vec{\\mathbf{r}}_P-\\vec{\\mathbf{r}}_S |^3}  \\;\\;\\; \\mbox{(eq. 1)}$$\n",
    "\n",
    "\n",
    "where \n",
    "\n",
    "$k=\\frac{1}{4\\pi\\epsilon_0}$ is the Coulomb constant\n",
    "\n",
    "$\\vec{\\mathbf{r}}_S $= source point, or the position of the charge producing the E-field\n",
    "\n",
    "$\\vec{\\mathbf{r}}_P $= field point, or the position of point P where we want to calculate the E-field.\n",
    "\n",
    "\n",
    "To find the x,y and z components of the E-field, we need to express the vectors $\\vec{\\mathbf{r}}_S $ and $\\vec{\\mathbf{r}}_P $ in cartesian coordinates. If the coordinates of the source point are:\n",
    "\n",
    "$$\\vec{\\mathbf{r}}_S = (x_S, y_S, z_S)$$\n",
    "\n",
    "and the coordinates of the field point are:\n",
    "\n",
    "$$\\vec{\\mathbf{r}}_P = (x_P, y_P, z_P)$$\n",
    "\n",
    "then\n",
    "\n",
    "$$\\vec{\\mathbf{r}}_P-\\vec{\\mathbf{r}}_S = (x_P-x_S)\\; \\hat{\\mathbf{i}} + (y_P-y_S)\\; \\hat{\\mathbf{j}} + (z_P-z_S) \\;\\hat{\\mathbf{k}} \\;\\;\\;\\; \\mbox{(eq. 2)}$$\n",
    "\n",
    "Note that the denominator in the expression of the E-field in (eq. 1) is the <b>cube</b> of the distance between the charge $q$ and point P. We will call this distance $r_{SP}$ and is defined as \n",
    "\n",
    "$$r_{SP} = |\\vec{\\mathbf{r}}_P-\\vec{\\mathbf{r}}_S|  \\;\\;\\; \\mbox{(eq. 3)}$$\n",
    "\n",
    "The above equations should help you when you fill in the function \"Calculate_E( )\" in the code below. \n",
    "\n",
    "\n",
    "<b>Please fill in the missing lines in the following code. We provide some test cases so that you can check your work.</b>\n"
   ]
  },
  {
   "cell_type": "code",
   "execution_count": null,
   "metadata": {
    "collapsed": true
   },
   "outputs": [],
   "source": [
    "#Here we're importing the vpython package used to draw the charges and field arrows\n",
    "from vpython import *\n",
    "\n",
    "\n",
    "#Here we will complete a function that calculates the E-field of a point charge at some point P in space\n",
    "\n",
    "def calculate_E(q,r_S,r_P):\n",
    "    \n",
    "    #The function takes the following generic inputs:\n",
    "    #q: value of the point charge in C,\n",
    "    #r_S: [x_S,y_S,z_S] coordinates of the source point in m,\n",
    "    #r_P: [x_P,y_P,z_P] coordinates of point P in m\n",
    "    #The function returns [E_x,E_y,E_z], the x,y & z components of the E field at point P\n",
    "    \n",
    "    #Defining the constants epsilon_0 and k\n",
    "    \n",
    "    e0 = 8.854187817e-12  \n",
    "    k = 1.0 / (4 * pi * e0)\n",
    "\n",
    "    #First: Calculate the distance rSP between the charge and point P: \n",
    "    #use sqrt( ) for square root and x**2 for x^2. \n",
    "    #use for coordinates for charge x_S=r_S[0], y_S=r_S[1], z_S=r_S[2]. Same for point P\n",
    "\n",
    "    #rSP = FILL IN \n",
    "    \n",
    "      \n",
    "    \n",
    "    #Second: Calculate the field components using E, r and the coordinates of q and P\n",
    "    #E_x = FILL IN\n",
    "    #E_y = FILL IN\n",
    "    #E_z = FILL IN\n",
    "    # Review (eq. 1) for the E-field.\n",
    "    \n",
    "     \n",
    "    return([E_x,E_y,E_z])\n",
    "\n",
    "#Test cases:\n",
    "print(calculate_E(1e-9,[0,0,0],[0,2,0]))       #should return [0.0, 2.246887946999478, 0.0] N/C\n",
    "print(calculate_E(-5e-9,[-2,1,0],[0,-3,2]))    #should return [-0.7644068026886633, 1.5288136053773267, -0.7644068026886633] N/C\n",
    "print(calculate_E(-2e-9,[-1,3,-2],[-4,-3,-3])) #should return [0.17284463695641594, 0.3456892739128319, 0.05761487898547198] N/C\n",
    "\n"
   ]
  },
  {
   "cell_type": "markdown",
   "metadata": {},
   "source": [
    "<h2>Time to visualize those components!</h2> <br> Only proceed to the following part if you finished task 1. The whole visualization program is complete and ready to use, but it will run only after you run the previous part correctly.\n",
    "\n",
    "In this part, we will use our program to analyze some charge configurations.\n",
    "\n",
    "<h2>Task 2: Four point charges at the corners of a square with center at the origin. </h2>\n",
    "<img src=\"images/square.png\" width=200 />\n",
    "\n",
    "<b>To be submitted on Canvas:</b> On a piece of paper, please draw the configuration shown in the picture above and determine the direction of the net E field at the center of square without calculations. When you are done with your drawing check if your answer matches the one obtained by running the visualization below. Please attach a screenshot of the visualization to the document with your prediction of the E field and submit it on Canvas.\n",
    "\n",
    "<b>Note: </b> In the visualization we will use $Q = {10}^{-10} C$ and a square of length $L= 2m$. If your \"Calculate_E( )\" function above is ready, you don't need to change any part of the following code, just run it.\n"
   ]
  },
  {
   "cell_type": "code",
   "execution_count": null,
   "metadata": {
    "collapsed": true
   },
   "outputs": [],
   "source": [
    "\n",
    "# This is the function to draw the configuration and the fields. You don't need to read through this function\n",
    "# Just treat it as a black box that draws the configuration (unless you're interested in knowing how it works :) )\n",
    "def draw_configuration(charges,loc,points,draw_contributions = True):\n",
    "    scene = canvas() \n",
    "    for point in points:\n",
    "        Es = [calculate_E(charges[index],loc[index],point) for index in range(len(charges))]\n",
    "        E_tot = [sum(E) for E in zip(*Es)]\n",
    "        colors = [color.blue if charge<0 else color.red for charge in charges]\n",
    "        radii = [0.5e9*abs(charge) for charge in charges]\n",
    "        for index in range(len(charges)):\n",
    "            sphere(pos=vector(loc[index][0],loc[index][1],loc[index][2]), radius=radii[index], color=colors[index])\n",
    "        if mag(vector(E_tot[0], E_tot[1],E_tot[2])) >0:\n",
    "            Earrow_tot=arrow(pos=vector(point[0],point[1],point[2]), axis=vector(E_tot[0], E_tot[1],E_tot[2]), shaftwidth=0.05,color=color.green)\n",
    "        if draw_contributions:\n",
    "            for index in range(len(Es)):\n",
    "                E = Es[index]\n",
    "                arrow(pos=vector(point[0],point[1],point[2]), axis=vector(E[0], E[1],E[2]),  shaftwidth=0.03,color=colors[index])\n",
    "\n",
    "\n",
    "# To run the code, just supply the draw_configuration( ) function with the charges, their locations and the points where you want to calculate E\n",
    "\n",
    "charges =               # List [] Fill in the value of the charges in C\n",
    "locations =    # List of lists - Fill in list of positions of charges in m\n",
    "points =                               #List of lists - Fill in list of positions (in m) of points where to calculate E-field \n",
    "draw_configuration(charges,locations,points)\n",
    "\n",
    "#The first run takes about 10 seconds to load. \n",
    "#Please save a screenshot of your output as we will ask you to submit it. \n",
    "#You're welcome to experiment with the above values, e.g. change the signs, values, locations of charges."
   ]
  },
  {
   "cell_type": "markdown",
   "metadata": {},
   "source": [
    "<h2>Task 3: Visualize the electric field of a dipole along its axis of symmetry </h2>\n",
    "<img src=\"images/dipole.png\" height=20 />\n",
    "\n",
    "In this example, we will use the program we built to draw the E-field of a dipole at different points along the x-axis. The dipole lies along the y-axis. The origin of the coordinate system is at the middle point between the two charges. Before running the simulation, draw on your notebook the E-field vectors at different points along the x-axis. Check if your drawing matches the output of the simulation.\n",
    "\n",
    "<b> Note:</b> In the simulation we use  $Q = {10}^{-10} C$ and the distance between charges $d= 3m$. You only need to modify the lists below that define the values and locations of charges and the points to draw the field at. Draw the field at a minimum of five points along the x-axis within the range $x \\in$ [-2,2] m.\n"
   ]
  },
  {
   "cell_type": "code",
   "execution_count": null,
   "metadata": {
    "collapsed": true
   },
   "outputs": [],
   "source": [
    "#Students to fill in these values\n",
    "#charges = FILL IN\n",
    "#locations = FILL IN\n",
    "#points = FILL IN\n",
    "\n",
    "draw_configuration(charges,locations,points)"
   ]
  },
  {
   "cell_type": "markdown",
   "metadata": {
    "collapsed": true
   },
   "source": [
    "Finally, we strongly encourage you to explore more charge configurations and play around with the values and location of charges. For example, plot the electric field of the dipole at points not along the symmetry axis. Or think of any charge configuration you're interested in and explore the fields it creates."
   ]
  }
 ],
 "metadata": {
  "kernelspec": {
   "display_name": "Python 3",
   "language": "python",
   "name": "python3"
  },
  "language_info": {
   "codemirror_mode": {
    "name": "ipython",
    "version": 3
   },
   "file_extension": ".py",
   "mimetype": "text/x-python",
   "name": "python",
   "nbconvert_exporter": "python",
   "pygments_lexer": "ipython3",
   "version": "3.4.9"
  }
 },
 "nbformat": 4,
 "nbformat_minor": 1
}
