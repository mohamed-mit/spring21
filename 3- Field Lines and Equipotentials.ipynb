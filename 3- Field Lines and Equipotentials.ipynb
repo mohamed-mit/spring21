{
 "cells": [
  {
   "cell_type": "code",
   "execution_count": null,
   "metadata": {},
   "outputs": [],
   "source": [
    "# Visualization code credit: https://github.com/tomduck/electrostatics\n",
    "from new_session import *\n",
    "start_session()"
   ]
  },
  {
   "cell_type": "code",
   "execution_count": null,
   "metadata": {},
   "outputs": [],
   "source": [
    "%matplotlib inline\n",
    "# import warnings\n",
    "# warnings.filterwarnings('ignore')"
   ]
  },
  {
   "cell_type": "markdown",
   "metadata": {},
   "source": [
    " <h1>Field Lines and Equipotentials</h1>\n",
    " \n",
    " In this activity, you will \n",
    " \n",
    " <ol>\n",
    "     <li> Calculate the electric potential produced by a point charge and a system of point charges.</li>\n",
    "     <li> Analyze the relationship between electric field and electric potential through visualizations of field lines and equipotentials.</li>\n",
    " </ol>\n",
    " \n",
    " We provide you with a code that's mostly ready to use. You just need to fill in a few lines and run it.\n",
    " \n",
    " The document you upload should include your analytical calculations, reflections, and snapshots of your output.\n",
    " \n",
    "<h2> Task 1a: Short review exercise (write down your answers!) </h2> \n",
    "\n",
    "The change in electric potential between two points $\\vec r_A$ and $\\vec r_B$ is defined as the change in electric potential energy per unit charge between the same two points:\n",
    "\n",
    "$$ V(\\vec{r}_B) - V(\\vec{r}_A) = \\frac{U(\\vec{r}_B) - U(\\vec{r}_A)}{q} = - \\int_{\\vec {r}_A}^{\\vec {r}_b} \\vec {E}    \\cdot d\\vec{s}$$\n",
    "\n",
    "Consider a charge Q located at the origin. Calculate analytically:\n",
    "\n",
    "<ol>\n",
    "     <li> the change of electric potential between points $\\vec r_A$ and $\\vec r_B$ in the electric field produced by Q. \n",
    "     <li> calculate the electric potential function produced by the same  point charge Q with reference of zero at infinity. You can use your result from the first step, and set $\\vec{r}_A -> \\infty$, $V(\\vec{r}_A)=0$ and $\\vec{r}_B =\\vec {r}$.\n",
    "      </ol>\n",
    "      \n",
    "When you are done compare your answers with what we derived in class and keep your results handy.\n",
    "  \n",
    "\n",
    " <h2>Task 1b: Calculating numerically the electric potential due to a point charge</h2>\n",
    " \n",
    " Assuming a reference for electric potential at infinity, i.e. $V(\\infty)=0$, the electric potential produced by a point charge $q$ at a point P in space is given by \n",
    " \n",
    " \n",
    " $$  V = \\frac{kq}{|\\vec{\\mathbf{r}}_P-\\vec{\\mathbf{r}}_S|} \\;\\;\\; \\mbox{(eq. 1)}$$\n",
    " \n",
    " \n",
    " where \n",
    " \n",
    " $k=\\frac{1}{4\\pi\\epsilon_0}$ is the Coulomb constant\n",
    " \n",
    " $\\vec{\\mathbf{r}}_S $= source point, or the position of the charge producing the potential\n",
    " \n",
    " $\\vec{\\mathbf{r}}_P $= field point, or the position of point P where we want to calculate the potential.\n",
    " \n",
    "  If the coordinates of the source point are:\n",
    " \n",
    " $$\\vec{\\mathbf{r}}_S = (x_S, y_S, z_S)$$\n",
    " \n",
    " and the coordinates of the field point are:\n",
    " \n",
    " $$\\vec{\\mathbf{r}}_P = (x_P, y_P, z_P)$$\n",
    " \n",
    " then\n",
    " \n",
    " $$\\vec{\\mathbf{r}}_P-\\vec{\\mathbf{r}}_S = (x_P-x_S)\\; \\hat{\\mathbf{i}} + (y_P-y_S)\\; \\hat{\\mathbf{j}} + (z_P-z_S) \\;\\hat{\\mathbf{k}} \\;\\;\\;\\; \\mbox{(eq. 2)}$$\n",
    " \n",
    " We will call the distance between the two points $r_{SP}$ which is defined as \n",
    " \n",
    " $$r_{SP} = |\\vec{\\mathbf{r}}_P-\\vec{\\mathbf{r}}_S|  \\;\\;\\; \\mbox{(eq. 3)}$$\n",
    " \n",
    " The above equations should help you when you fill in the function \"Calculate_V( )\" in the code below. \n",
    " \n",
    " \n",
    " <ol>\n",
    "     <li> Make a sketch showing what each vector/scalar in eq. 1 represents. \n",
    "     <li> FILL IN the missing lines in the following code. We provide some test cases so that you can check your work.\n",
    "      </ol>\n",
    "  \n"
   ]
  },
  {
   "cell_type": "code",
   "execution_count": null,
   "metadata": {},
   "outputs": [],
   "source": [
    "from vpython import *\n",
    "def calculate_V(q,r_S,r_P):\n",
    "    #The function takes the following generic inputs:\n",
    "    #q: value of the point charge in C,\n",
    "    #r_S: [x_S,y_S,z_S] coordinates of the source point in m,\n",
    "    #r_P: [x_P,y_P,z_P] coordinates of point P in m    \n",
    "    # and returns the potential V by the source S at point P.\n",
    "   \n",
    "    \n",
    "    e0 = 8.854187817e-12  \n",
    "    k = 1.0 / (4 * pi * e0)\n",
    "    \n",
    "    # Reminder 1: use sqrt( ) for square root and x**2 for x^2. \n",
    "    # Reminder 2: the coordinates are elements of a list; for example, for the position of the charge\n",
    "    # x_S = r_S[0], y_S= r_S[1], z_S=r_S[2]. \n",
    "    #rSP = FILL IN with the distance between S and P\n",
    "    \n",
    "    #Second: Calculate the potential V at P\n",
    "    # Hint: Review (eq. 1) \n",
    "    \n",
    "    #V = FILL in\n",
    "    \n",
    " \n",
    "    return(V)\n",
    "\n",
    "#Test cases: They should all return True\n",
    "print(abs(calculate_V(1e-9,[0,0,0],[0,2,0]) - 4.493775) <= 0.001)\n",
    "print(abs(calculate_V(-5e-9,[-2,1,0],[0,-3,2]) +9.17288163) <= 0.001)     \n",
    "print(abs(calculate_V(-2e-9,[-1,3,-2],[-4,-3,-3]) +2.65028443333) <= 0.001)      \n"
   ]
  },
  {
   "cell_type": "markdown",
   "metadata": {},
   "source": [
    "3. For your reference, we provide below the code we used to calculate the E-field in lab 1. <b>YOUR TASK:</b>  COMMENT on the relative difficulty and differences between calculating $\\vec E$ and V produced by a point charge."
   ]
  },
  {
   "cell_type": "code",
   "execution_count": null,
   "metadata": {},
   "outputs": [],
   "source": [
    "def calculate_E(q,r_S,r_P): \n",
    "    e0 = 8.854187817e-12  \n",
    "    k = 1.0 / (4 * pi * e0)\n",
    "    rSP = sqrt(((r_P[0]-r_S[0])**2) + ((r_P[1]-r_S[1])**2) + ((r_P[2]-r_S[2])**2))\n",
    "    E_x = k*q *( (r_P[0]-r_S[0]) / rSP**3) \n",
    "    E_y = k*q *( (r_P[1]-r_S[1]) / rSP**3) \n",
    "    E_z = k*q *( (r_P[2]-r_S[2]) / rSP**3)      \n",
    "    return([E_x,E_y,E_z])"
   ]
  },
  {
   "cell_type": "markdown",
   "metadata": {},
   "source": [
    " <h2>Task 2: Visualizing field lines and equipotentials of a point charge</h2>\n",
    " \n",
    " In 2D, equipotential lines are defined to be the lines connecting points of equal electric potential. They physically represent lines along which charges can move without the electric force exerting any work on them. This is because the charge will have the same potential energy at any point on the equipotential. \n",
    " \n",
    " Before running any code, please take a minute to  <b>THINK</b> about the equipotential lines around a point charge and  <b>ANSWER</b> the following questions:\n",
    " <ol>\n",
    " <li> Based on equation 1, what shapes do you expect equipotential lines to look like around a point charge (in 2D)? Hint: for two points to be at the same potential around a point charge, what needs to be the same for both points?</li>\n",
    " \n",
    " <li> <b> Make a sketch</b> of some equipotentials around a positive point charge and add field lines too.</li>\n",
    " <li> Can you spot any particular relation between the E-field lines on your sketch and equipotentials? <b>Are they parallel, perpendicular or not related?</b></li>\n",
    "  <li> If the source charge is negative instead of positive, do the equipotential lines change? Justify your answer.</li>\n",
    " </ol>\n",
    "\n",
    " After answering the above questions, please run the cell below to draw field lines and equipotentials around a point charge. You can use the ready function draw_E_and_V(charges,locations) which takes a list of source point charges, and a list of their x-y-z coordinates as arguments.\n",
    " \n",
    " <b>Take a screenshot of your output and comment if the simulations agree/disagree with your analytical understanding!</b>\n",
    " "
   ]
  },
  {
   "cell_type": "code",
   "execution_count": null,
   "metadata": {},
   "outputs": [],
   "source": [
    "from equipotentials import draw_E_and_V\n",
    "draw_E_and_V([1e-9],[[0,0,0]])\n",
    "# E-Field lines are indicated by solid black lines, while equipotentials are the dotted lines  \n",
    "# Background color indicates the absolute value of potential.\n"
   ]
  },
  {
   "cell_type": "markdown",
   "metadata": {},
   "source": [
    "\n",
    " <h2>Task 3: Visualizing field lines and equipotentials of a dipole</h2>\n",
    " \n",
    " Now let's revisit the electric dipole consisiting of two charges of equal magnitude $q$ and opposite signs. \n",
    " <ol>\n",
    "    <li> Based on equation 1, <b>write</b> down the net potential at any point $P$ in space in terms of $k$, $q$, $r_{+}$ and $r_{-}$, where $r_{+}$ and $r_{-}$ are the <b>distances</b> between point $P$ and the positive/negative charge.</li>\n",
    " \n",
    " <li> What is the relationship between $r_{+}$ and $r_{-}$ for $V=0$ at a given point in space?</li>\n",
    " <li> Based on your answer to 2., what shape would you expect the $V=0$ equipotential to be around the dipole, in the plane containing the dipole itself?</li>\n",
    " </ol>\n",
    " \n",
    " After answering the above questions <b>to the best of your knowledge</b>, modify the code below to draw the field lines and equipotentials of a horizontal dipole of charges $\\pm 1 nC$ separated by a distance of 2 m.\n",
    " \n"
   ]
  },
  {
   "cell_type": "markdown",
   "metadata": {},
   "source": [
    " <ol>\n",
    " <li>Can you identify the $V=0$ equipotential on the diagram? Please highlight it on a screenshot of the output. </li>\n",
    " <li>Discuss whether the equipotentials on the right and left of it will have positive or negative potential.</li>\n",
    " <li>Observe the direction of the field lines at all points along the $V=0$ equipotential. Do the field lines at that equipotential point in a special way? Discuss</li>\n",
    " \n",
    " <li>By now, you would have observed an ever-existing relationship between the direction of the E-field and the equipotentials at all points in space. Please try to provide a physical argument for why this relationship holds.</li>\n",
    " \n",
    " </ol>\n",
    " \n",
    " "
   ]
  },
  {
   "attachments": {},
   "cell_type": "markdown",
   "metadata": {},
   "source": [
    "\n",
    " <h2>Task 4: Visualizing field lines and equipotentials of three charges </h2>\n",
    " \n",
    "Three point charges −Q, +Q , and −Q are located a distance 3a apart along the x axis. Point P is located on the negative y-axis a distance 4a from the origin (see sketch). \n",
    "\n",
    "<img src=\"images/three_charges.png\" width=200 />\n",
    "\n",
    "The figures below show possible field lines and equipotential surfaces for this problem.\n",
    "\n",
    "<img src=\"images/three_charges_E_V.png\" width=600 />\n",
    "\n",
    "<ol>\n",
    " <li> Which figure is the correct field line representation for this problem? \n",
    " <li> Which figure is the correct equipotential representation for this problem?\n",
    "</ol> \n",
    " After answering the above questions <b>to the best of your knowledge</b>, modify the code below to draw the field lines and equipotentials of the configuration above with $Q =\\pm 1 nC$ and a =2 m.\n",
    " \n"
   ]
  },
  {
   "cell_type": "code",
   "execution_count": null,
   "metadata": {},
   "outputs": [],
   "source": [
    "#Change this from one charge to the configuration of threee charges below\n",
    "# The first in input of the function below is a list of charges [Q1,Q2,...]\n",
    "# The second input is a list of lists  of positions [[x_S1,y_S1,z_S1],[x_S2,y_S2,z_S2],...] \n",
    "\n",
    "draw_E_and_V([1e-9],[[0,0,0]])\n"
   ]
  },
  {
   "cell_type": "markdown",
   "metadata": {},
   "source": [
    " <h2>Task 5: Pick your own distribution!</h2>\n",
    "     \n",
    " Finally, decide with your group on a fun configuration to plot! It can consist of 3 or 4 point charges, but keep the magnitudes of the order of $nC$. Choose their signs and place them anywhere you want to observe the resulting fields and potentials everywhere. Modify the code below to draw your configuration. Try to produce a visually appealing field :) and attach a screenshot of your results.\n",
    " \n"
   ]
  },
  {
   "cell_type": "code",
   "execution_count": null,
   "metadata": {},
   "outputs": [],
   "source": [
    "#change this to describe your own distribution of 3-4 charges\n",
    "draw_E_and_V([1e-9],[[0,0,0]])\n"
   ]
  },
  {
   "cell_type": "code",
   "execution_count": null,
   "metadata": {},
   "outputs": [],
   "source": [
    "#change this to describe your own distribution of 3-4 charges\n",
    "draw_E_and_V([1e-9,-2e-9],[[0,0,0],[3,0,0]],circlesize=False,lines=False)\n"
   ]
  }
 ],
 "metadata": {
  "kernelspec": {
   "display_name": "Python 3 (ipykernel)",
   "language": "python",
   "name": "python3"
  },
  "language_info": {
   "codemirror_mode": {
    "name": "ipython",
    "version": 3
   },
   "file_extension": ".py",
   "mimetype": "text/x-python",
   "name": "python",
   "nbconvert_exporter": "python",
   "pygments_lexer": "ipython3",
   "version": "3.9.13"
  }
 },
 "nbformat": 4,
 "nbformat_minor": 1
}
