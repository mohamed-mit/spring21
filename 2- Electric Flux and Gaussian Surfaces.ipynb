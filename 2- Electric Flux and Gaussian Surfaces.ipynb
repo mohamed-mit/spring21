{
 "cells": [
  {
   "cell_type": "markdown",
   "metadata": {},
   "source": [
    "<h1><b><font color=\"red\">WARNING: if you are working on-line and close the tab you will loose your work!</font></b> </h1>\n",
    "<h2><b><font color=\"red\"> Remember to save your work from time to time by clicking on the cloud with the arrow pointing down. In this way, if you accidentally close the tab, you can load the notebook again and recover your work by clicking on the the cloud with the arrow pointing up.</font></b></h2>\n",
    "\n",
    "Run the cell below to start a session."
   ]
  },
  {
   "cell_type": "code",
   "execution_count": 1,
   "metadata": {},
   "outputs": [
    {
     "data": {
      "application/vnd.jupyter.widget-view+json": {
       "model_id": "e649caf0ecaa4f4a9cabc81183e85283",
       "version_major": 2,
       "version_minor": 0
      },
      "text/plain": [
       "FloatProgress(value=0.0, max=7200.0)"
      ]
     },
     "metadata": {},
     "output_type": "display_data"
    },
    {
     "name": "stdout",
     "output_type": "stream",
     "text": [
      "Session started, will remain active for two hours as counted by the progress bar\n"
     ]
    }
   ],
   "source": [
    "from new_session import *\n",
    "start_session()"
   ]
  },
  {
   "cell_type": "markdown",
   "metadata": {},
   "source": [
    "The following cell imports our ready code to draw E field and Gaussian surfaces at given locations. If you want to take a look at how we implemented the code, you can find the code <a href=\"Gauss.py\">here</a>"
   ]
  },
  {
   "cell_type": "code",
   "execution_count": 2,
   "metadata": {},
   "outputs": [
    {
     "data": {
      "text/html": [
       "<div id=\"glowscript\" class=\"glowscript\"></div>"
      ],
      "text/plain": [
       "<IPython.core.display.HTML object>"
      ]
     },
     "metadata": {},
     "output_type": "display_data"
    },
    {
     "data": {
      "application/javascript": [
       "if (typeof Jupyter !== \"undefined\") { window.__context = { glowscript_container: $(\"#glowscript\").removeAttr(\"id\")};}else{ element.textContent = ' ';}"
      ],
      "text/plain": [
       "<IPython.core.display.Javascript object>"
      ]
     },
     "metadata": {},
     "output_type": "display_data"
    }
   ],
   "source": [
    "from Gauss import *"
   ]
  },
  {
   "cell_type": "markdown",
   "metadata": {},
   "source": [
    "<h2>Introduction:</h2>\n",
    "\n",
    "<b>Gauss's law</b> states that the <b>flux</b> of the electric field $\\vec{E}$ through any <b>closed</b> surface, also called a <b>Gaussian surface</b>, is equal to the net charge enclosed  ($Q_{enc}$)\n",
    "  divided by the vacuum permittivity ($\\epsilon_0$)\n",
    "\n",
    "$$\\Phi = \\oint \\vec{E}.\\vec{dA} = \\frac{Q_{enc}}{\\epsilon_0}$$"
   ]
  },
  {
   "cell_type": "markdown",
   "metadata": {},
   "source": [
    "<h2>Learning objectives:</h2>\n",
    "\n",
    "<ol>\n",
    " <li>To comprehend the meaning of Gauss's Law.</li>\n",
    " <li>To understand why Gauss's Law is useful to calculate electric fields in situations with high degrees of symmetry: planar, cylindrical, and spherical.</li>\n",
    " <li>To reflect about the meaning of \"infinite\" in physics i.e. \"how and when is an infinite cylinder approximation useful if a charged cylinder is reality finite?\"  \n",
    "</ol>"
   ]
  },
  {
   "cell_type": "markdown",
   "metadata": {},
   "source": [
    "<h2>Task 1a: Visualize the Electric Field of a Uniformly-Charged Insulating Sphere</h2>\n",
    "\n",
    "Let's first explore how the electric field of a uniformly charged insulating sphere looks like in 3D. \n",
    "\n",
    "Use the cell below to run the visualization using the function <b>draw_charged_sphere( ).</b>  This function draws the charged sphere with center at the origin of a coordinate system. (This coordinate system is not shown in the simulation). It also draws the E-field vectors at a \"few\" points in space located at a distance <b>distance_E</b> from the center of the charged sphere. This distance is one of the three arguments that you need for the function <b>draw_charged_sphere( ).</b> The three arguments that this function takes are:\n",
    "\n",
    "<ol>\n",
    "    <li><b>source_radius:</b> radius of the charged sphere (in $m$).</li>\n",
    "    <li><b>charge:</b> total charge of the sphere (in $C$).</li>\n",
    "    <li><b>distance_E:</b> distance between the center of the sphere and the point at which the E field is calculated and visualized (in $m$).</li>\n",
    "</ol>\n",
    "\n",
    "Note that if the charge is positive the sphere is red, and if the charge is negative the sphere is blue.\n",
    "\n",
    "<ul>\n",
    "    <li><span style=\"color:blue\">Experiment</span> with all arguments to generate E-field vectors produced by positive and negative spheres. You can change the argument <b>distance_E</b> to see how does the E-field looks inside and outside the sphere.</li>\n",
    "        <li> Keep the charge in the $nC$ order of magnitude (~1e-9 $C$).</li>\n",
    "    <li><span style=\"color:blue\">take note</span> of the symmetry of the arrows you obtain. Look at the figure from different angles by rotating the camera view! Save snapshots of your simulations and discoveries.</li>\n",
    "</ul>\n"
   ]
  },
  {
   "cell_type": "code",
   "execution_count": 3,
   "metadata": {},
   "outputs": [
    {
     "data": {
      "text/html": [
       "<div id=\"glowscript\" class=\"glowscript\"></div>"
      ],
      "text/plain": [
       "<IPython.core.display.HTML object>"
      ]
     },
     "metadata": {},
     "output_type": "display_data"
    },
    {
     "data": {
      "application/javascript": [
       "if (typeof Jupyter !== \"undefined\") { window.__context = { glowscript_container: $(\"#glowscript\").removeAttr(\"id\")};}else{ element.textContent = ' ';}"
      ],
      "text/plain": [
       "<IPython.core.display.Javascript object>"
      ]
     },
     "metadata": {},
     "output_type": "display_data"
    },
    {
     "data": {
      "application/javascript": [
       "if (typeof Jupyter !== \"undefined\") {require.undef(\"nbextensions/vpython_libraries/glow.min\");}else{element.textContent = ' ';}"
      ],
      "text/plain": [
       "<IPython.core.display.Javascript object>"
      ]
     },
     "metadata": {},
     "output_type": "display_data"
    },
    {
     "data": {
      "application/javascript": [
       "if (typeof Jupyter !== \"undefined\") {require.undef(\"nbextensions/vpython_libraries/glowcomm\");}else{element.textContent = ' ';}"
      ],
      "text/plain": [
       "<IPython.core.display.Javascript object>"
      ]
     },
     "metadata": {},
     "output_type": "display_data"
    },
    {
     "data": {
      "application/javascript": [
       "if (typeof Jupyter !== \"undefined\") {require.undef(\"nbextensions/vpython_libraries/jquery-ui.custom.min\");}else{element.textContent = ' ';}"
      ],
      "text/plain": [
       "<IPython.core.display.Javascript object>"
      ]
     },
     "metadata": {},
     "output_type": "display_data"
    },
    {
     "data": {
      "application/javascript": [
       "if (typeof Jupyter !== \"undefined\") {require([\"nbextensions/vpython_libraries/glow.min\"], function(){console.log(\"GLOW LOADED\");});}else{element.textContent = ' ';}"
      ],
      "text/plain": [
       "<IPython.core.display.Javascript object>"
      ]
     },
     "metadata": {},
     "output_type": "display_data"
    },
    {
     "data": {
      "application/javascript": [
       "if (typeof Jupyter !== \"undefined\") {require([\"nbextensions/vpython_libraries/glowcomm\"], function(){console.log(\"GLOWCOMM LOADED\");});}else{element.textContent = ' ';}"
      ],
      "text/plain": [
       "<IPython.core.display.Javascript object>"
      ]
     },
     "metadata": {},
     "output_type": "display_data"
    },
    {
     "data": {
      "application/javascript": [
       "if (typeof Jupyter !== \"undefined\") {require([\"nbextensions/vpython_libraries/jquery-ui.custom.min\"], function(){console.log(\"JQUERY LOADED\");});}else{element.textContent = ' ';}"
      ],
      "text/plain": [
       "<IPython.core.display.Javascript object>"
      ]
     },
     "metadata": {},
     "output_type": "display_data"
    }
   ],
   "source": [
    "# Task 1a\n",
    "source_radius = 1 #m\n",
    "distance_E = 0.5  #m\n",
    "charge = 1e-9  # C\n",
    "draw_charged_sphere(charge=charge,radius=source_radius,distance=distance_E)\n"
   ]
  },
  {
   "cell_type": "markdown",
   "metadata": {},
   "source": [
    "<h2>Task 1b: Choose the Shape, Dimensions and Location of the Gaussian Surface for a Spherical Source</h2>\n",
    "\n",
    "Assume you want to calculate the electric field produced by the charge configurations you built in 1a. How would you proceed?\n",
    "\n",
    "Let's explore to decide which Gaussian surfaces would be helpful!\n",
    "\n",
    "You can use the function <b>draw_Gaussian_surface( )</b>. This function adds a Gaussian surface to the above scene, it can be either a sphere or a cylinder. This function takes the following information:\n",
    "<ol>\n",
    "    <li>The shape of the Gaussian surface: \"sphere\" or \"cylinder\". </li>\n",
    "    <li>The dimensions of the Gaussian surface: \n",
    "    <ul>\n",
    "    <li>For a sphere: radius = radius of the sphere (centered at the origin for simplicity).</li>\n",
    "    <li>For a cylinder: radius = radius of the two circular bases of the cylinder and base_centers = [[$x_1, y_1, z_1$],[$x_2, y_2, z_2$]] is a list of the coordinates of the centers of the two circular bases. </li>\n",
    "    </ul>\n",
    "    </li>\n",
    "</ol>\n",
    "\n",
    "The resulting Gaussian surface has its center at the origin of the coordinates system. Based on your observations about the symmetries of the field in task 1a, you should choose the appropriate Gaussian surface to match the symmetry of the field that you want to calculate. You must also choose the dimensions, based on whether you want to calculate the electric field inside or outside the charge distribution. \n",
    "\n",
    "<b>Uncomment one of the choices in the cell below by removing the \"#' symbol and fill it with the correct dimensions to add the correct Gaussian surface. You should use the variables defined above (e.g. source_radius, point_distance) to fill in the missing arguments.</b> You can also copy the correct line to the cell from task 1a and run them together.\n",
    "\n",
    "Proceed to documenting your work as follows:\n",
    "<ul>\n",
    "<li>Draw the Gaussian surfaces for <span style=\"color:blue\">all four cases:</span> +/- charged sphere, and Guassian surface inside and outside the charged sphere.</li>\n",
    "<li><span style=\"color:blue\">Take screenshots</span> of 2 of your setups that include the Gaussian surfaces using a clear camera angle.</li>\n",
    "<li><span style=\"color:blue\">Describe</span>, using yor own words, how the integral for electric flux through the Gaussian surface $\\Phi = \\oint \\vec{E}.\\vec{dA}$ simplifies because of symmetry and the correct choice of the Gaussian surface. </li>\n",
    "</ul>"
   ]
  },
  {
   "cell_type": "code",
   "execution_count": 4,
   "metadata": {},
   "outputs": [
    {
     "data": {
      "text/html": [
       "<div id=\"glowscript\" class=\"glowscript\"></div>"
      ],
      "text/plain": [
       "<IPython.core.display.HTML object>"
      ]
     },
     "metadata": {},
     "output_type": "display_data"
    },
    {
     "data": {
      "application/javascript": [
       "if (typeof Jupyter !== \"undefined\") { window.__context = { glowscript_container: $(\"#glowscript\").removeAttr(\"id\")};}else{ element.textContent = ' ';}"
      ],
      "text/plain": [
       "<IPython.core.display.Javascript object>"
      ]
     },
     "metadata": {},
     "output_type": "display_data"
    }
   ],
   "source": [
    "source_radius = 2 #m\n",
    "distance_E = 3  #m\n",
    "charge = 1e-9 \n",
    "draw_charged_sphere(charge=charge,radius=source_radius,distance=distance_E)\n",
    "\n",
    "#  Pick and specify coordinates for the correct Gaussian Surface\n",
    "#draw_Gaussian_surface(\"sphere\",radius = FILL IN) \n",
    "#draw_Gaussian_surface(\"cylinder\",radius = FILL IN,base_centers=FILL IN)\n",
    "\n"
   ]
  },
  {
   "cell_type": "markdown",
   "metadata": {},
   "source": [
    "<h2>Task 2a: Visualize the Electric Field of a Uniformly-Charged Insulating Cylinder</h2>\n",
    "\n",
    "In this task, you will be repeating the same steps done in Task 1 but for a uniformly charged cylinder of finite length.  You will use the function <b>draw_charged_cylinder( )</b> that draws the charged cylinder with its axis coinciding  with the x-axis and its center coinciding with the origin of the $(x,y,z)$ coordinate system. (The coordinate system is not shown in the visualization). This function also draws the E-field produced by the cylinder at a few points in space that are at a perpendicular distance, <b>distance_E</b>, from the axis of the cylinder.\n",
    "\n",
    "The function <b>draw_charged_cylinder( )</b> takes four arguments:\n",
    "\n",
    "<ol>\n",
    "    <li><b>lambda0:</b> charge per unit length of the cylinder (in $C/m$).</li>\n",
    "    <li><b>radius:</b> radius of the circular bases (in $m$).</li>\n",
    "    <li><b>length:</b> total length of the cylinder (in $m$).</li>\n",
    "    <li><b>distance_E:</b> perpendicular distance between the cylinder axis and the point at which the E field is calculated and visualized (in $m$). (The E field is not calculated along the axis of the cylinder).</li>\n",
    "</ol>\n",
    "\n",
    "The cylinder is red if it is positively charged and blue if negatively charged.\n",
    "\n",
    "<ul>\n",
    "    <li><span style=\"color:blue\">Experiment</span> with all the arguments to generate the E field produced by positive and negative cylinders. Draw the E-field vectors at points inside and outside of the cylinders [Please keep the charge density in the $nC/m$ order of magnitude (~1e-9 $C/m$)].</li>\n",
    "    <li><span style=\"color:blue\">Comment</span> on the symmetry of the arrows you obtain at a particular distance. What happens at the edges of the cylinder? What happens to the E-field vectors at the points close to the surface of the cylinder vs. the E-field vectors at points far away from it?</li>\n",
    "    <li>Based on your observations, <span style=\"color:blue\">Explain</span> the reasons why approximating the cylinder as \"infinite\" is necessary for applying Gauss's Law, and in what cases this approximation can still be a good one. </li>\n",
    "</ul>"
   ]
  },
  {
   "cell_type": "code",
   "execution_count": 5,
   "metadata": {},
   "outputs": [
    {
     "data": {
      "text/html": [
       "<div id=\"glowscript\" class=\"glowscript\"></div>"
      ],
      "text/plain": [
       "<IPython.core.display.HTML object>"
      ]
     },
     "metadata": {},
     "output_type": "display_data"
    },
    {
     "data": {
      "application/javascript": [
       "if (typeof Jupyter !== \"undefined\") { window.__context = { glowscript_container: $(\"#glowscript\").removeAttr(\"id\")};}else{ element.textContent = ' ';}"
      ],
      "text/plain": [
       "<IPython.core.display.Javascript object>"
      ]
     },
     "metadata": {},
     "output_type": "display_data"
    }
   ],
   "source": [
    "#   Task 2a  \n",
    "distance_E = 1.5 # m\n",
    "length = 6  # m\n",
    "radius = 1 # m\n",
    "density = 1e-9 # C/m^3\n",
    "draw_charged_cylinder(lambda0=density,radius=radius,length=length,distance = distance_E)\n",
    "\n"
   ]
  },
  {
   "cell_type": "markdown",
   "metadata": {},
   "source": [
    "<h2>Task 2b: Choose the Shape, Dimensions and Location of the Gaussian Surface for a Cylinderical Source</h2>\n",
    "\n",
    "Use again the function <b>draw_Gaussian_surface( ) </b> to draw the correct Gaussian surface for the charged cylinder. Fill in the needed values:\n",
    "<ol>\n",
    "    <li>The shape: \"sphere\" or \"cylinder\".</li>\n",
    "    <li>The dimensions of the Gaussian surface: \n",
    "    <ul>\n",
    "    <li>For a sphere: radius = radius of the sphere (centered at the origin for simplicity).</li>\n",
    "    <li>For a cylinder: radius = radius of the two circular bases of the cylinder and base_centers = [[$x_1, y_1, z_1$],[$x_2, y_2, z_2$]] is a list of the coordinates of the centers of the two circular bases. </li>\n",
    "    </ul>\n",
    "    </li>\n",
    "</ol>\n",
    "\n",
    "<b>Uncomment one of the choices below by removing the \"#' symbol and fill it with the correct dimensions to add the correct Gaussian surface. You should use some of the variables defined above (e.g. distance, length, radius,..) to fill in the missing arguments.</b> \n",
    "\n",
    "Proceed to documenting your work as follows:\n",
    "\n",
    "<ul>   \n",
    "<li>Draw the Gaussian surfaces for <span style=\"color:blue\">all four cases:</span> cylinder positively and negatively charged, and Gaussian surface inside/outside the charged cylinder.</li><li><span style=\"color:blue\">Take screenshots</span> of 2 of your setups that include the Gaussian surfaces using a clear camera angle.</li>\n",
    "<li><span style=\"color:blue\">Describe</span>, using yor own words, how the integral for electirc flux through the Gaussian surface $\\Phi = \\oint \\vec{E}.\\vec{dA}$ simplifies because of symmetry and the correct choice of the Gaussian surface. </li>\n",
    "</ul>\n",
    "\n"
   ]
  },
  {
   "cell_type": "code",
   "execution_count": 6,
   "metadata": {},
   "outputs": [
    {
     "data": {
      "text/html": [
       "<div id=\"glowscript\" class=\"glowscript\"></div>"
      ],
      "text/plain": [
       "<IPython.core.display.HTML object>"
      ]
     },
     "metadata": {},
     "output_type": "display_data"
    },
    {
     "data": {
      "application/javascript": [
       "if (typeof Jupyter !== \"undefined\") { window.__context = { glowscript_container: $(\"#glowscript\").removeAttr(\"id\")};}else{ element.textContent = ' ';}"
      ],
      "text/plain": [
       "<IPython.core.display.Javascript object>"
      ]
     },
     "metadata": {},
     "output_type": "display_data"
    }
   ],
   "source": [
    "distance_E = 1.5 # m\n",
    "length = 6  # m\n",
    "radius = 1 # m\n",
    "density = 1e-9 # C/m^3\n",
    "draw_charged_cylinder(lambda0=density,radius=radius,length=length,distance = distance_E)\n",
    "\n",
    "#  Pick and specify coordinates for the correct Gaussian Surface\n",
    "#draw_Gaussian_surface(\"sphere\",radius = FILL IN) \n",
    "#draw_Gaussian_surface(\"cylinder\",radius = FILL IN,base_centers=FILL IN)\n"
   ]
  },
  {
   "cell_type": "markdown",
   "metadata": {},
   "source": [
    "<h2>Task 3a: Visualize the Electric Field of a Uniformly-Charged Insulating Slab</h2>\n",
    "\n",
    "Finally, our third symmetry is the planar one. \n",
    "\n",
    "Use the function <b>draw_charged_slab( ) </b> to draw a finite slab that is parallel to the x-y plane and its center coincides with the origin of the coordinate system. (The coordinate system is not shown in the visualization.) This function also draws the E-field vectors at points at a perpendicular distance, <b>distance_E</b>, with respect to the x-y plane. \n",
    "\n",
    "This function takes five arguments:\n",
    "\n",
    "<ol>\n",
    "    <li><b>rho: </b> charge per unit volume of the slab (in $C/m^3$).</li>\n",
    "    <li><b>length: </b>slab length along x  (in $m$).</li>\n",
    "    <li><b>height: </b>slab height along y  (in $m$).</li>\n",
    "    <li><b>width: </b>slab width along z [should be smaller than length $\\&$ height] (in $m$).</li>\n",
    "    <li><b>distance_E: </b>distance above/below the x-y plane (along z) at which the E field is calculated and visualized (in $m$).</li>\n",
    "</ol>\n",
    "\n",
    "\n",
    "<ul>\n",
    "    <li><span style=\"color:blue\">Experiment</span> with all arguments to generate the E field for positive and negative slabs, both inside and outside of the slabs [Please keep the charge density in the $nC/m^3$ order of magnitude (~1e-9 $C/m^3$)].</li>\n",
    "    <li><span style=\"color:blue\">Comment</span> on the symmetry of the arrows you obtain at a particular distance. What happens at the edges of the slab? What happens if the points are very close to the surface of the slab vs. far away from it?</li>\n",
    "    \n",
    "</ul>\n"
   ]
  },
  {
   "cell_type": "code",
   "execution_count": 7,
   "metadata": {},
   "outputs": [
    {
     "data": {
      "text/html": [
       "<div id=\"glowscript\" class=\"glowscript\"></div>"
      ],
      "text/plain": [
       "<IPython.core.display.HTML object>"
      ]
     },
     "metadata": {},
     "output_type": "display_data"
    },
    {
     "data": {
      "application/javascript": [
       "if (typeof Jupyter !== \"undefined\") { window.__context = { glowscript_container: $(\"#glowscript\").removeAttr(\"id\")};}else{ element.textContent = ' ';}"
      ],
      "text/plain": [
       "<IPython.core.display.Javascript object>"
      ]
     },
     "metadata": {},
     "output_type": "display_data"
    }
   ],
   "source": [
    "#  Task 3a\n",
    "length = 10 #x in m\n",
    "height = 10 #y in m\n",
    "width = 1 #full width/thickness in m\n",
    "distance_E = 1 #above/below the center of the slab in m\n",
    "density = 1e-9 # in C/m^3\n",
    "draw_charged_slab(rho=density,length=length,height=height,width=width,distance=distance_E)"
   ]
  },
  {
   "cell_type": "markdown",
   "metadata": {},
   "source": [
    "<h2>Task 3b: Choose the Shape, Dimensions and Location of the Gaussian Surface for a Charged Slab</h2>\n",
    "\n",
    "Now, choose the correct Gaussian surface and fill in the needed values:\n",
    "<ol>\n",
    "    <li>The shape: \"sphere\" or \"cylinder\".</li>\n",
    "    <li>The dimensions of the Gaussian surface: \n",
    "    <ul>\n",
    "    <li>For a sphere: radius = radius of the sphere (centered at the origin for simplicity).</li>\n",
    "    <li>For a cylinder: radius = radius of the two circular bases of the cylinder and base_centers = [[$x_1, y_1, z_1$],[$x_2, y_2, z_2$]] is a list of the coordinates of the centers of the two circular bases. </li>\n",
    "    </ul>\n",
    "    </li>\n",
    "</ol>\n",
    "\n",
    "<b>Uncomment one of the choices below by removing the \"#' symbol and fill it with the correct dimensions to add the correct Gaussian surface. You should use some of the variables defined above (e.g. distance, length, radius,..) to fill in the missing arguments.</b> \n",
    "<ul>\n",
    "<li>Draw the Gaussian surfaces for <span style=\"color:blue\">all four cases:</span>positively and negatively charged slab, at points inside and outside the slab.</li><li><span style=\"color:blue\">Take screenshots</span> of 2 of your setups that include the Gaussian surface using a clear camera angle.</li>\n",
    "<li><span style=\"color:blue\">Describe</span>, using your own words, how the integral for electirc flux through the Gaussian surface $\\Phi = \\oint \\vec{E}.\\vec{dA}$ simplifies because of symmetry and the correct choice of the Gaussian surface.</li>\n",
    "</ul>\n",
    "\n"
   ]
  },
  {
   "cell_type": "code",
   "execution_count": 8,
   "metadata": {},
   "outputs": [
    {
     "data": {
      "text/html": [
       "<div id=\"glowscript\" class=\"glowscript\"></div>"
      ],
      "text/plain": [
       "<IPython.core.display.HTML object>"
      ]
     },
     "metadata": {},
     "output_type": "display_data"
    },
    {
     "data": {
      "application/javascript": [
       "if (typeof Jupyter !== \"undefined\") { window.__context = { glowscript_container: $(\"#glowscript\").removeAttr(\"id\")};}else{ element.textContent = ' ';}"
      ],
      "text/plain": [
       "<IPython.core.display.Javascript object>"
      ]
     },
     "metadata": {},
     "output_type": "display_data"
    }
   ],
   "source": [
    "length = 10 #x in m\n",
    "height = 10 #y in m\n",
    "width = 1 #full width/thickness in m\n",
    "distance_E = 1 #above/below the center of the slab in m\n",
    "density = 1e-9 # in C/m^3\n",
    "draw_charged_slab(rho=density,length=length,height=height,width=width,distance=distance_E)\n",
    "\n",
    "#  Pick and specify coordinates for the correct Gaussian Surface\n",
    "#draw_Gaussian_surface(\"sphere\",radius = FILL IN) \n",
    "#draw_Gaussian_surface(\"cylinder\",radius = FILL IN,base_centers=FILL IN)\n"
   ]
  },
  {
   "cell_type": "markdown",
   "metadata": {},
   "source": [
    "<h2>Deliverables: </h2>\n",
    "    \n",
    " Submit snapshots of your virtual experiments with your reflections for each part."
   ]
  }
 ],
 "metadata": {
  "kernelspec": {
   "display_name": "Python 3 (ipykernel)",
   "language": "python",
   "name": "python3"
  },
  "language_info": {
   "codemirror_mode": {
    "name": "ipython",
    "version": 3
   },
   "file_extension": ".py",
   "mimetype": "text/x-python",
   "name": "python",
   "nbconvert_exporter": "python",
   "pygments_lexer": "ipython3",
   "version": "3.9.13"
  }
 },
 "nbformat": 4,
 "nbformat_minor": 4
}
