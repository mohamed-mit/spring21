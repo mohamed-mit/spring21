{
 "cells": [
  {
   "cell_type": "code",
   "execution_count": 1,
   "id": "green-holocaust",
   "metadata": {},
   "outputs": [
    {
     "data": {
      "application/vnd.jupyter.widget-view+json": {
       "model_id": "872da7c249e14c5eb74230dcd23f7435",
       "version_major": 2,
       "version_minor": 0
      },
      "text/plain": [
       "FloatProgress(value=0.0, max=7200.0)"
      ]
     },
     "metadata": {},
     "output_type": "display_data"
    },
    {
     "name": "stdout",
     "output_type": "stream",
     "text": [
      "Session started, will remain active for two hours as counted by the progress bar\n"
     ]
    }
   ],
   "source": [
    "from new_session import *\n",
    "start_session()"
   ]
  },
  {
   "cell_type": "markdown",
   "id": "opponent-museum",
   "metadata": {},
   "source": [
    "<h1>Motion of Charged Objects in Electric and Magnetic Fields</h1>\n",
    "\n",
    "In this lab, you will \n",
    "\n",
    "<ol>\n",
    "    <li> Calculate the net force acting on a charged object due to both E and B fields.</li>\n",
    "    <li> Update the velocity and position of the object based on the force acting on it using Newton's 2nd law.</li>\n",
    "    <li> Run a visualization of a charged particle moving through uniform B and E fields.</li>\n",
    "    <li> Run a visualization of the cyclotron motion.</li>\n",
    "</ol>\n",
    "\n"
   ]
  },
  {
   "cell_type": "markdown",
   "id": "radio-aging",
   "metadata": {},
   "source": [
    "<h2>Task 1: Calculate the Lorentz Force on a Charged Particle & Track its Velocity and Position</h2>\n",
    "\n",
    "When a charged object is within a region of Electric and/or Magnetic fields, the net force on it can be calculated as:\n",
    "\n",
    "$$\\vec{F} = q\\vec{E} + q\\vec{v} \\times \\vec{B}$$\n",
    "\n",
    "This net electromagnetic force is called the Lorentz force.\n",
    "\n",
    "To find the trajectory of the charged object within the field(s), we need to utilize Newton's 2nd law to examine the effect of the Lorentz force on the momentum (and hence velocity) of the object.\n",
    "\n",
    "$$\\vec{p_f} = \\vec{p_i} + \\int_{t_i}^{t_f} \\vec{F} dt$$\n",
    "\n",
    "One way to build a simulation that tracks the trajectory of the system is to divide the time interval $(t_f - t_i)$ into small time-steps $dt$$ such that the we can treat the force as a constant during each short time interval. Then we can update the velocity and position vector after each time-step as follows:\n",
    "\n",
    "$$\\vec{v}(t+dt) = \\vec{v}(t) + \\frac{\\vec{F} dt}{m}$$\n",
    "\n",
    "$$\\vec{r}(t+dt) = \\vec{r}(t) + \\vec{v}(t) dt + \\frac{1}{2} \\frac{\\vec{F}}{m} (dt)^2$$ [Note that the last term is of order $(dt)^2$ and hence can be ignored if $dt$ is small enough]\n",
    "\n",
    "<b>In this task, you will complete three functions that will be used to calculate the trajectory of a charged object</b>:\n",
    "\n",
    "1- <i>Lorentz_F(q,v,E,B)</i>: Returns the Lorentz force on a charged object\n",
    "\n",
    "2- <i>update_v(vi,m,F,dt)</i>: Returns $\\vec{v}(t+dt)$ given $\\vec{v}(t)$\n",
    "\n",
    "3- <i>update_position(ri,vi,m,F,dt)</i>: Returns $\\vec{r}(t+dt)$ given $\\vec{r}(t)$ and $\\vec{v}(t)$\n",
    "\n",
    "Each function is missing only one line of code where you will implement the equations provided above."
   ]
  },
  {
   "cell_type": "code",
   "execution_count": 2,
   "id": "incorporated-decade",
   "metadata": {},
   "outputs": [
    {
     "data": {
      "text/html": [
       "<div id=\"glowscript\" class=\"glowscript\"></div>"
      ],
      "text/plain": [
       "<IPython.core.display.HTML object>"
      ]
     },
     "metadata": {},
     "output_type": "display_data"
    },
    {
     "data": {
      "application/javascript": [
       "if (typeof Jupyter !== \"undefined\") { window.__context = { glowscript_container: $(\"#glowscript\").removeAttr(\"id\")};}else{ element.textContent = ' ';}"
      ],
      "text/plain": [
       "<IPython.core.display.Javascript object>"
      ]
     },
     "metadata": {},
     "output_type": "display_data"
    },
    {
     "data": {
      "text/plain": [
       "<5e-09, -2e-09, 0>"
      ]
     },
     "execution_count": 2,
     "metadata": {},
     "output_type": "execute_result"
    }
   ],
   "source": [
    "from vpython import *\n",
    "\n",
    "\n",
    "def Lorentz_F(q,v,E,B):\n",
    "    # calculates and returns the Lorentz force given:\n",
    "    # q= charge of object, v= velocity vector, E= Electric field vector and B= Magnetic field vector\n",
    "    # In vpython, cross(A,B) returns the cross product A x B\n",
    "    F = q*(E+cross(v,B))\n",
    "    return F\n",
    "def update_v(vi,m,F,dt):\n",
    "    # calculates and returns the final velocity vector after a short time-step, i.e. v(t+dt) given:\n",
    "    # vi = initial velocity v(t), m = mass, F = net force on the object and dt = time step\n",
    "    vf = vi + F*dt/m\n",
    "    return vf\n",
    "def update_position(ri,vi,m,F,dt):\n",
    "    # calculates and returns the final position vector after a short time-step, i.e. r(t+dt) given:\n",
    "    # ri = initial position v(t), vi = initial velocity v(t), m = mass, F = net force on the object and dt = time step\n",
    "    rf = ri + vi*dt + 0.5*F*dt*dt/m\n",
    "    return rf\n"
   ]
  },
  {
   "cell_type": "markdown",
   "id": "motivated-making",
   "metadata": {},
   "source": [
    "<h2>Task 2: Track The Motion of a Charged Object Within Uniform E and B Fields</h2>\n",
    "\n",
    "We will now use the functions you built to track the motion of a charged object in uniform fields. \n",
    "\n",
    "We will focus on a scenario where a charged object with charge $q$ and mass $m$ initially moving in the x direction with some velocity $v_x$ goes through a region of uniform vertical E field $E_y$ and/or a uniform B field in the z-direction $B_z$. Note that the quantities $q, v_x, E_y, B_z$ could be positive, zero or negative."
   ]
  },
  {
   "cell_type": "code",
   "execution_count": 38,
   "id": "environmental-virginia",
   "metadata": {},
   "outputs": [],
   "source": [
    "import math\n",
    "def simulate_motion(q=0,m=1,vx=1,Ey=0,Bz=0,total_time=20):\n",
    "    print(\"White arrows = E field, Yellow arrows = B field, Blue = negative charge and Red = positive charge\")\n",
    "    print(\"E and B fields are assumed to be uniform all over space.\")\n",
    "    if q!=0:\n",
    "        scale = math.floor(math.log10(abs((q*vx*Bz+q*Ey)/m)))\n",
    "        q = q*10**(-scale)\n",
    "    scene = canvas() \n",
    "    ######################################################\n",
    "    #define parameters for the moving point charge\n",
    "    obj = sphere(radius = 1) \n",
    "    obj.charge = q\n",
    "    obj.mass = m\n",
    "    obj.pos = vector(0,0,0) #initial position vector\n",
    "    obj.velocity = vector(vx,0,0) #initial velocity vector\n",
    "    obj.color = color.blue\n",
    "    if obj.charge >0:\n",
    "        obj.color = color.red\n",
    "    ######################################################\n",
    "    #define the uniform E and B fields \n",
    "    E = vector(0,Ey,0)\n",
    "    B = vector(0,0,Bz)\n",
    "    ######################################################\n",
    "    t = 0 #initial time\n",
    "    dt = 0.001 #timestep to evolve the system\n",
    "    trail = curve(color=color.white)\n",
    "    max_y = 15\n",
    "    max_x = 50\n",
    "    if E.y != 0:\n",
    "        mybox = box(pos=vector(0,max_y*E.y/abs(E.y),0), length=max_x, height=0.1, width=50,color=color.blue)\n",
    "        mybox = box(pos=vector(0,-max_y*E.y/abs(E.y),0), length=max_x, height=0.1, width=50,color=color.red)\n",
    "        dx = max_x/10\n",
    "        for x in arange(-max_x/2, max_x/2+dx, 2*dx):\n",
    "            arrow(pos=vector(x,-max_y*E.y/abs(E.y),0),axis = vector(0,2*max_y*E.y/abs(E.y),0),color=color.white,shaftwidth=0.1)\n",
    "        scene.range = max_y*2*1.1\n",
    "        dx = max_x/10\n",
    "    else:\n",
    "        max_x = 10\n",
    "        max_y = 8\n",
    "        dx = max_x/4\n",
    "        obj.radius = 0.6\n",
    "    if B.z != 0:\n",
    "\n",
    "        \n",
    "        for x in arange(-max_x/2, max_x/2+dx, 2*dx):\n",
    "            arrow(pos=vector(x,-max_y/4,0),axis = vector(0,0,2*max_y*B.z/abs(B.z)),color=color.yellow,shaftwidth=0.1)\n",
    "            arrow(pos=vector(x,max_y/4,0),axis = vector(0,0,2*max_y*B.z/abs(B.z)),color=color.yellow,shaftwidth=0.1)\n",
    "        #scene.center = vector(max_x/3,0,0)\n",
    "\n",
    "\n",
    "    \n",
    "    final_time = total_time\n",
    "    while t<final_time:\n",
    "\n",
    "        rate(600) #slow down the rate of visualization to 600 updates per sec\n",
    "        F = Lorentz_F(obj.charge,obj.velocity,E,B) #calculate the net force on the charge\n",
    "        r = update_position(obj.pos,obj.velocity,obj.mass,F,dt)\n",
    "        v = update_v(obj.velocity,obj.mass,F,dt)\n",
    "        obj.pos = r\n",
    "        obj.velocity = v\n",
    "        trail.append(pos=r)\n",
    "        t = t+dt\n",
    "        if abs(r.y) >=max_y:\n",
    "            break\n"
   ]
  },
  {
   "cell_type": "code",
   "execution_count": 51,
   "id": "muslim-arctic",
   "metadata": {},
   "outputs": [
    {
     "name": "stdout",
     "output_type": "stream",
     "text": [
      "White arrows = E field, Yellow arrows = B field, Blue = negative charge and Red = positive charge\n",
      "E and B fields are assumed to be uniform all over space.\n"
     ]
    },
    {
     "data": {
      "text/html": [
       "<div id=\"glowscript\" class=\"glowscript\"></div>"
      ],
      "text/plain": [
       "<IPython.core.display.HTML object>"
      ]
     },
     "metadata": {},
     "output_type": "display_data"
    },
    {
     "data": {
      "application/javascript": [
       "if (typeof Jupyter !== \"undefined\") { window.__context = { glowscript_container: $(\"#glowscript\").removeAttr(\"id\")};}else{ element.textContent = ' ';}"
      ],
      "text/plain": [
       "<IPython.core.display.Javascript object>"
      ]
     },
     "metadata": {},
     "output_type": "display_data"
    }
   ],
   "source": [
    "simulate_motion(q=10e-9,m=10e-31,vx=0,Ey=1,Bz=1,total_time = 20)"
   ]
  },
  {
   "cell_type": "code",
   "execution_count": null,
   "id": "jewish-consent",
   "metadata": {
    "scrolled": false
   },
   "outputs": [],
   "source": []
  },
  {
   "cell_type": "code",
   "execution_count": 41,
   "id": "aggregate-polymer",
   "metadata": {},
   "outputs": [
    {
     "data": {
      "text/html": [
       "<div id=\"glowscript\" class=\"glowscript\"></div>"
      ],
      "text/plain": [
       "<IPython.core.display.HTML object>"
      ]
     },
     "metadata": {},
     "output_type": "display_data"
    },
    {
     "data": {
      "application/javascript": [
       "if (typeof Jupyter !== \"undefined\") { window.__context = { glowscript_container: $(\"#glowscript\").removeAttr(\"id\")};}else{ element.textContent = ' ';}"
      ],
      "text/plain": [
       "<IPython.core.display.Javascript object>"
      ]
     },
     "metadata": {},
     "output_type": "display_data"
    }
   ],
   "source": [
    "scene = canvas() \n",
    "trail = curve(color=color.yellow)\n",
    "myell = ellipsoid(pos=vector(0,0,0),length=1, height=1, width=0.1,color=color.white,opacity = 0.3)\n",
    "box(pos=vector(0,0,0), length=0.2, height=1, width=0.1,color=color.black,opacity = 0.8)\n",
    "scene.lights = []\n",
    "distant_light(direction=vec( 1.1,  0.44,  0.88), color=color.gray(0.8))\n",
    "obj = sphere(radius = 0.06) \n",
    "obj.charge = 1\n",
    "obj.mass = 1 \n",
    "obj.pos = vector(0,0,0) #initial position vector\n",
    "obj.velocity = vector(0,0,0) #initial velocity vector\n",
    "obj.color = color.blue\n",
    "if obj.charge >0:\n",
    "    obj.color = color.red\n",
    "    \n",
    "\n",
    "######################################################\n",
    "t = 0 #initial time\n",
    "dt = 0.001 #timestep to evolve the system\n",
    "in_B = False\n",
    "n = 1\n",
    "while obj.pos.mag <0.5:\n",
    "    \n",
    "    rate(600) #slow down the rate of visualization to 600 updates per sec\n",
    "    if abs(obj.pos.x) >=0.1:\n",
    "        E = vector(0,0,0)\n",
    "        B = vector(0,0,4)\n",
    "        in_B = True\n",
    "    else:\n",
    "        if in_B:\n",
    "            in_B = False\n",
    "            n = -n\n",
    "        E = vector(0.3*n,0,0)\n",
    "        B = vector(0,0,0)\n",
    "        \n",
    "    F = Lorentz_F(obj.charge,obj.velocity,E,B) #calculate the net force on the charge\n",
    "    r = update_position(obj.pos,obj.velocity,obj.mass,F,dt)\n",
    "    v = update_v(obj.velocity,obj.mass,F,dt)\n",
    "    obj.pos = r\n",
    "    obj.velocity = v\n",
    "    trail.append(pos=r)\n",
    "    t = t+dt\n",
    "    \n",
    "    "
   ]
  },
  {
   "cell_type": "code",
   "execution_count": null,
   "id": "ambient-armor",
   "metadata": {},
   "outputs": [],
   "source": []
  },
  {
   "cell_type": "code",
   "execution_count": null,
   "id": "initial-brand",
   "metadata": {},
   "outputs": [],
   "source": []
  }
 ],
 "metadata": {
  "kernelspec": {
   "display_name": "Python 3",
   "language": "python",
   "name": "python3"
  },
  "language_info": {
   "codemirror_mode": {
    "name": "ipython",
    "version": 3
   },
   "file_extension": ".py",
   "mimetype": "text/x-python",
   "name": "python",
   "nbconvert_exporter": "python",
   "pygments_lexer": "ipython3",
   "version": "3.7.10"
  }
 },
 "nbformat": 4,
 "nbformat_minor": 5
}
