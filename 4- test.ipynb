{
 "cells": [
  {
   "cell_type": "code",
   "execution_count": 1,
   "id": "incorporated-decade",
   "metadata": {},
   "outputs": [
    {
     "data": {
      "text/html": [
       "<div id=\"glowscript\" class=\"glowscript\"></div>"
      ],
      "text/plain": [
       "<IPython.core.display.HTML object>"
      ]
     },
     "metadata": {},
     "output_type": "display_data"
    },
    {
     "data": {
      "application/javascript": [
       "if (typeof Jupyter !== \"undefined\") { window.__context = { glowscript_container: $(\"#glowscript\").removeAttr(\"id\")};}else{ element.textContent = ' ';}"
      ],
      "text/plain": [
       "<IPython.core.display.Javascript object>"
      ]
     },
     "metadata": {},
     "output_type": "display_data"
    },
    {
     "data": {
      "text/plain": [
       "<5e-09, -2e-09, 0>"
      ]
     },
     "execution_count": 1,
     "metadata": {},
     "output_type": "execute_result"
    }
   ],
   "source": [
    "from vpython import *\n",
    "\n",
    "\n",
    "def Lorentz_F(q,v,E,B):\n",
    "    F = q*(E+cross(v,B))\n",
    "    return F\n",
    "def update_v(vi,m,F,dt):\n",
    "    vf = vi + F*dt/m\n",
    "    return vf\n",
    "def update_position(ri,vi,m,F,dt):\n",
    "    rf = ri + vi*dt + 0.5*F*dt*dt/m\n",
    "    return rf\n",
    "\n",
    "v = vector(1,0,0)\n",
    "E = vector(5,0,0)\n",
    "B = vector(0,0,2)\n",
    "q = 1e-9\n",
    "Lorentz_F(q,v,E,B)\n",
    "\n"
   ]
  },
  {
   "cell_type": "code",
   "execution_count": 7,
   "id": "jewish-consent",
   "metadata": {
    "scrolled": false
   },
   "outputs": [
    {
     "data": {
      "text/html": [
       "<div id=\"glowscript\" class=\"glowscript\"></div>"
      ],
      "text/plain": [
       "<IPython.core.display.HTML object>"
      ]
     },
     "metadata": {},
     "output_type": "display_data"
    },
    {
     "data": {
      "application/javascript": [
       "if (typeof Jupyter !== \"undefined\") { window.__context = { glowscript_container: $(\"#glowscript\").removeAttr(\"id\")};}else{ element.textContent = ' ';}"
      ],
      "text/plain": [
       "<IPython.core.display.Javascript object>"
      ]
     },
     "metadata": {},
     "output_type": "display_data"
    }
   ],
   "source": [
    "scene = canvas() \n",
    "######################################################\n",
    "#define parameters for the moving point charge\n",
    "obj = sphere(radius = 1) \n",
    "obj.charge = -1\n",
    "obj.mass = 1 \n",
    "obj.pos = vector(0,0,0) #initial position vector\n",
    "obj.velocity = vector(4,0,0) #initial velocity vector\n",
    "obj.color = color.blue\n",
    "if obj.charge >0:\n",
    "    obj.color = color.red\n",
    "######################################################\n",
    "#define the uniform E and B fields \n",
    "E = vector(0,0,0)\n",
    "B = vector(0,0,1)\n",
    "######################################################\n",
    "t = 0 #initial time\n",
    "dt = 0.001 #timestep to evolve the system\n",
    "trail = curve(color=color.white)\n",
    "max_y = 15\n",
    "if E.y != 0:\n",
    "    mybox = box(pos=vector(0,max_y*E.y/abs(E.y),0), length=50, height=0.1, width=50,color=color.blue)\n",
    "    mybox = box(pos=vector(0,-max_y*E.y/abs(E.y),0), length=50, height=0.1, width=50,color=color.red)\n",
    "else:\n",
    "    obj.radius = 0.3\n",
    "\n",
    "while t<20:\n",
    "    rate(600) #slow down the rate of visualization to 600 updates per sec\n",
    "    F = Lorentz_F(obj.charge,obj.velocity,E,B) #calculate the net force on the charge\n",
    "    r = update_position(obj.pos,obj.velocity,obj.mass,F,dt)\n",
    "    v = update_v(obj.velocity,obj.mass,F,dt)\n",
    "    obj.pos = r\n",
    "    obj.velocity = v\n",
    "    trail.append(pos=r)\n",
    "    t = t+dt\n",
    "    if abs(r.y) >=max_y:\n",
    "        break\n",
    "    "
   ]
  },
  {
   "cell_type": "code",
   "execution_count": null,
   "id": "aggregate-polymer",
   "metadata": {},
   "outputs": [],
   "source": [
    "\n"
   ]
  },
  {
   "cell_type": "code",
   "execution_count": null,
   "id": "ambient-armor",
   "metadata": {},
   "outputs": [],
   "source": [
    "scene = canvas() \n",
    "trail = curve(color=color.red)\n",
    "obj0 = sphere(pos=vector(0,0,0))\n",
    "v = vector(1,0,0)\n",
    "r = vector(0,0,0)\n",
    "t = 0\n",
    "dt = 0.001\n",
    "F = vector(0,0,0)\n",
    "m = 1\n",
    "q = 1\n",
    "v = vector(4,0,0)\n",
    "E = vector(0,0,0)\n",
    "B = vector(0,0,1)\n",
    "\n",
    "while t<20:\n",
    "    rate(600)\n",
    "    F = Lorentz_F(q,v,E,B)\n",
    "    r = update_position(v,r,F,dt,m)\n",
    "    v = update_v(v,F,dt,m)\n",
    "    obj0.pos = r\n",
    "    trail.append(pos=r)\n",
    "    t = t+dt\n",
    "    \n",
    "    \n",
    "    \n"
   ]
  },
  {
   "cell_type": "code",
   "execution_count": null,
   "id": "initial-brand",
   "metadata": {},
   "outputs": [],
   "source": [
    "## INITIAL VALUE OF B\n",
    "scene = canvas() \n",
    "B0 = vector(0,0.2,0)\n",
    "## THIS CODE DRAWS A FLOOR AND DISPLAYS THE MAGNETIC FIELD *************\n",
    "xmax = .6\n",
    "dx = .1\n",
    "yg = -.1\n",
    "for x in arange(-xmax, xmax+dx, dx):\n",
    "    curve(pos=[vector(x,yg,-xmax),vector(x,yg,xmax)], color=vector(.7,.7,.7))\n",
    "for z in arange(-xmax, xmax+dx, dx):\n",
    "    curve(pos=[vector(-xmax,yg,z),vector(xmax,yg,z)],color=vector(.7,.7,.7))\n",
    "bscale = 1\n",
    "for x in arange(-xmax, xmax+dx, 2*dx):\n",
    "    for z in arange(-xmax, xmax+dx, 2*dx):\n",
    "        arrow(pos=vector(x,yg,z), axis=B0*bscale, color=vector(0,.8,.8))\n"
   ]
  }
 ],
 "metadata": {
  "kernelspec": {
   "display_name": "Python 3",
   "language": "python",
   "name": "python3"
  },
  "language_info": {
   "codemirror_mode": {
    "name": "ipython",
    "version": 3
   },
   "file_extension": ".py",
   "mimetype": "text/x-python",
   "name": "python",
   "nbconvert_exporter": "python",
   "pygments_lexer": "ipython3",
   "version": "3.7.10"
  }
 },
 "nbformat": 4,
 "nbformat_minor": 5
}
