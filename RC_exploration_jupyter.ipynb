{
 "cells": [
  {
   "cell_type": "markdown",
   "metadata": {
    "id": "yoZTqPHy3BZj"
   },
   "source": [
    "# <center>  MIT 8.02 ESG  - RC  circuits exploration </center>\n",
    "\n",
    "# Learning Objectives\n",
    "\n",
    "OF THE MAIN TASKS\n",
    "\n",
    "<ol>\n",
    "    <li> To be able to include capacitors as circuit elements, and to know how the electric potential changes across capacitors.\n",
    "<li> To comprehend the nature of the differential equation describing a charging and discharging capacitor\n",
    "<li> To be able to explain the meaning of the RC time constant \n",
    "<li> To appreciate that although mathematically it takes an infinite amount of time for a capacitor to fully charge/discharge, in practice it always takes some finite amount of time\n",
    "</ol>\n",
    "OF THE OPTIONAL TASKS\n",
    "\n",
    "<ol>\n",
    "<li>To figure out how to measure the time constant of an RC circuit\n",
    "<li> To think critically about the assumptions in the analytical solution, in the code and to relate it to what happens in real life\n",
    "</ol>\n"
   ]
  },
  {
   "cell_type": "markdown",
   "metadata": {
    "id": "tjTMhTQTCYbm"
   },
   "source": [
    "# Charging and discharging capacitors exploration\n",
    "\n",
    "In this activity you will use your physics knowledge to complete and modify a code that describes a charging (switch in position A) and discharging (switch in position B) capacitor.  You will then explore how charge (q) and current (I) vary as a function of time.\n",
    "\n",
    "<center>\n",
    "<figure>\n",
    "<img src=\"images/rc_all.png\" width=600 />\n",
    "<figcaption>Fig.1 - Charging and discharging a capacitor.</figcaption>\n",
    "</figure>\n",
    "</center>"
   ]
  },
  {
   "cell_type": "markdown",
   "metadata": {},
   "source": [
    "# Task 1 - on a piece of paper - finding the differential equations \n",
    "\n",
    "Before you write a code it is important to understand what you are trying to do. This part will guide you to find the differential equations for the  charge (q) and current (I). <br> \n",
    "\n",
    "<h2> Charging capacitor </h2>\n",
    "\n",
    "The switch in Figure 1 is flipped to the left (charging capacitor). For simplicity, we copied the closed loop in Figure 2.\n",
    "\n",
    "<center>\n",
    "<figure>\n",
    "<img src=\"images/rc_charge.png\" width=400 />\n",
    "<figcaption>Fig.2 - Charging a capacitor.</figcaption>\n",
    "</figure>\n",
    "</center>    \n",
    "\n",
    "The gray arrows represent the directions we chose (they are arbitrary!) for the positive current and for the calculation of potential differences.\n",
    "\n",
    "<b> For the circuit in Figure 2: </b>\n",
    "\n",
    "1. Write the relationship between the current I and the charge q on the positive plate \n",
    "2. Use the loop rule to find an expression for $\\frac{dq}{dt}$ in terms if $R_1$ , C, $V_b$, q as needed.\n",
    "\n",
    "<h2> Discharging capacitor </h2>    \n",
    "    \n",
    "Now the switch in Figure 1 is flipped to the right (discharging capacitor). For simplicity, we copied the closed loop in Figure 3.\n",
    "\n",
    "<center>\n",
    "<figure>\n",
    "<img src=\"images/rc_discharge.png\" width=400 />\n",
    "<figcaption>Fig.3 - Discharging a capacitor.</figcaption>\n",
    "</figure>\n",
    "</center> \n",
    "\n",
    "<b> For the circuit in Figure 3: </b>\n",
    "\n",
    "1. Write the relationship between the current I and the charge q on the positive plate \n",
    "2. Use the loop rule to find an expression for $\\frac{dq}{dt}$ in terms if $R_2$ , C, $V_b$, q as needed.\n",
    "\n"
   ]
  },
  {
   "cell_type": "markdown",
   "metadata": {},
   "source": [
    "# Task 2 - write the code \n",
    "\n",
    "Use your results from Task 1 to complete the functions <b> dq_dt </b> and <b>current </b>. Read the functions descriptions (in red below)!\n"
   ]
  },
  {
   "cell_type": "code",
   "execution_count": null,
   "metadata": {},
   "outputs": [],
   "source": [
    "## YOUR TURN: COMPLETE the functions below and run this cell\n",
    "\n",
    "# dq/dt equation \n",
    "\n",
    "def dq_dt(q,R,C,vb):\n",
    "        \"\"\"This function takes the floats q, R, C, vb as arguments and\n",
    "        it returns the value of dq/dt (float). \n",
    "        \"\"\"\n",
    "        # Comment : below we assign dq/dt = rhs, where rhs stands for righ-hand side of the equation\n",
    "        # Hint: the expression you write has to be valid for charging and discharging\n",
    "        # capacitors. For a discharging capacitor we will set vb = 0 when we call the function \n",
    "        # You do not need to worry about it here!\n",
    "        \n",
    "        #rhs = FILL IN dq/dt for GIVEN q, R, C, vb  \n",
    "        \n",
    "        rhs = -q/(R*C) + vb/R\n",
    "        return(rhs)\n",
    "    \n",
    "# Relationship between positive current and dq/dt\n",
    "\n",
    "def current(dq_dt, charging):\n",
    "        \"\"\"This function takes the float dq/dt and the boolean charging (which can be True\n",
    "        or False) as arguments and\n",
    "        it returns the positive current (float). \n",
    "        \"\"\"\n",
    "\n",
    "        if charging == True:\n",
    "            #I = FILL IN I for given dq_dt\n",
    "            I = + dq_dt # the current adds charge to the positive plate\n",
    "        else:\n",
    "            #I = FILL IN I for given dq_dt\n",
    "            I = - dq_dt   # the current removes charge from the positive plate \n",
    "            \n",
    "        return I"
   ]
  },
  {
   "cell_type": "markdown",
   "metadata": {},
   "source": [
    "Once you complete and run the cell above, run the cell below. Without editing it. The red line is the result from the numerical integration that uses the functions you wrote for a charging capacitor. It should go through the analytical solution (blue dots). If you get an error or you get a red curve that doesn't match the blue dots, review Task 1 and your functions with a peer or with an instructor."
   ]
  },
  {
   "cell_type": "code",
   "execution_count": null,
   "metadata": {},
   "outputs": [],
   "source": [
    "## YOUR TURN: Run this cell\n",
    "\n",
    "from RC_solve import *\n",
    "\n",
    "# Constants\n",
    "R_1 = 100e3 # ohm\n",
    "C = 10e-6 # farad\n",
    "vb = 5 # battery emf, in Volt\n",
    "\n",
    "# Time\n",
    "ti = 0 # initial time, in seconds\n",
    "tf = 5 # final time, in seconds\n",
    "dt = 0.02 # s. Infinitesimal time interval used for the numerical integration\n",
    "\n",
    "# Initial conditions\n",
    "qi = 0 # initial charge in C\n",
    "\n",
    "# vb has been assigned above\n",
    "# Call the function that calculate Q and I as a function of time\n",
    "ts,qs,Is = solve_charge_current (R_1, C, vb, qi, ti, tf, dt,dq_dt, current)\n",
    "\n",
    "qa,Ia = analytical_sol (R_1, C, vb, qi, ti, tf, dt, charging  = True)   \n",
    "\n",
    "# Plot Q and I as a function of time. The red line is the numerical result that uses\n",
    "# functions you wrote\n",
    "plot_Q_I(ts,qs,Is,qa,Ia)"
   ]
  },
  {
   "cell_type": "markdown",
   "metadata": {},
   "source": [
    "You can now run the cell below, without editing it. The red line is the result from the numerical integration that uses the functions you wrote for a discharging capacitor. It should go through the analytical solution (blue dots). If you get an error or you get a red curve that doesn't match the blue dots, review Task 1 and your functions with a peer or with an instructor. <br> \n",
    "<b> Take snapshots of your output for both charging and discharging capacitors, and add them to your notes for Task 1. </b>"
   ]
  },
  {
   "cell_type": "code",
   "execution_count": null,
   "metadata": {},
   "outputs": [],
   "source": [
    "## YOUR TURN: Run this cell\n",
    "\n",
    "# Constants\n",
    "R_2 = 100e3 # ohm\n",
    "\n",
    "# Initial conditions\n",
    "qi = 5\n",
    "\n",
    "# Call the function that calculate Q and I as a function of time\n",
    "ts2,qs2,Is2 = solve_charge_current (R_2, C, vb, qi, ti, tf, dt,dq_dt, current,charging  = False)\n",
    "\n",
    "qa2,Ia2 = analytical_sol (R_2, C, vb, qi, ti, tf, dt, charging  = False)   \n",
    "\n",
    "# Plot Q and I as a function of time. The red line is the numerical result that uses\n",
    "# functions you wrote\n",
    "plot_Q_I(ts2,qs2,Is2,qa2,Ia2)"
   ]
  },
  {
   "cell_type": "markdown",
   "metadata": {},
   "source": [
    "# Task 3 - When is the capacitor fully charged/discharged?\n",
    "\n",
    "In the reading we learned that the characteristic time for charging/discharging a capacitor is given by $\\tau = RC$ ($\\tau$ is the greek letter tau). A real life example is when you unplug a wireless router to reset it: the capacitors in the device do not discharge instantaneosly, it takes a finite amout of time. That is why you need to wait tens of seconds before plugging in the router again. <br>\n",
    "\n",
    "How do we decide how long to wait? When is the capacitor truly discharged? If you look at the charge plot, you notice that the charge approaches zero asymptotically, it is never exactly zero. A better question would be: when is the positive charge 1% of the initial charge qi? <br>\n",
    "\n",
    "Let's start by defining the time constant tau for the circuit in Fig. 3: write it in the cell below and run the cell to see how long is $\\tau$ (tau)."
   ]
  },
  {
   "cell_type": "code",
   "execution_count": null,
   "metadata": {},
   "outputs": [],
   "source": [
    "## YOUR TURN: complete and run this cell\n",
    "\n",
    "# tau  = FILL in with characteristic time in s for the circuit in Fig. 3. Use the variables \n",
    "# R_1, R_2, C as needed\n",
    "\n",
    "tau  = R_2*C # characteristic time in s\n",
    "\n",
    "print(\"tau is\",tau,\"s\")"
   ]
  },
  {
   "cell_type": "markdown",
   "metadata": {},
   "source": [
    "In order to find when approximately the charge is 1% of the initial value, we  use an inefficient but simple algorithm, called  exhaustive enumeration algorithm (or also brute force).\n",
    "The algorithm checks iteratively the value of q(t)/q(0) in the numerical solution starting at ti (index i=0), until q(t)/q(0) becomes smaller than 1%. When this condition is satisfied, the code exits the loop, and we have the index that gives the approximate time. Run the cell below and read the output."
   ]
  },
  {
   "cell_type": "code",
   "execution_count": null,
   "metadata": {},
   "outputs": [],
   "source": [
    "## YOUR TURN: Run this cell\n",
    "\n",
    "epsilon  = 0.01\n",
    "i = 0\n",
    "\n",
    "while abs(qs2[i]/qs2[0]) > epsilon:\n",
    "                              i+=1\n",
    "        \n",
    "print(\"At time\", round(ts[i],2),\"s the charge on the positive plate is\", round(qs2[i]/qs2[0]*100,2), \n",
    "      \"% the initial charge. For practical purposes this time is what we consider infinite!\")  \n"
   ]
  },
  {
   "cell_type": "markdown",
   "metadata": {},
   "source": [
    "<b>Use the results above</b>\n",
    "\n",
    "1. to calculate how many tau approximately it takes to discharge the capacitor in Fig. 3, where we define a capacitor to be discharged if the charge is about 1% of the initial value. \n",
    "2. to calculate when the capacitor in Fig. 2 is \"fully charged\" (when for example its charge is about 99% of the maximum theoretical charge $Q_{max} = $ = C vb). You can address this answer analytically on a piece of paper or writing a brute force search similar to the example above. Use the method you prefer !\n",
    "3. <b>Optional</b>: discuss how you would proceed to approximately measure the time constant of an RC circuit $\\tau$ using an  oscilloscope. You can borrow the equipment from Dave's office!"
   ]
  },
  {
   "cell_type": "code",
   "execution_count": null,
   "metadata": {},
   "outputs": [],
   "source": [
    "## SOLUTION\n",
    "\n",
    "epsilon  = 0.01\n",
    "Qmax = C*vb\n",
    "i = 0\n",
    "\n",
    "while abs((Qmax-qs[i])/Qmax) > epsilon:\n",
    "                              i+=1\n",
    "        \n",
    "print(\"At time\", round(ts[i],2),\"s the charge on the positive plate is\", round(qs[i]/Qmax*100,2), \n",
    "      \"% the maximum charge. For practical purposes this time is what we consider infinite!\")  \n"
   ]
  },
  {
   "cell_type": "markdown",
   "metadata": {},
   "source": [
    "# Task 4 - Explore the solutions\n",
    "\n",
    "What happens when the time constant changes? Run the cell below: it will produce an interactive output for a discharging capacitor. Change the resistance and capacitance in the interactive plot below to see the effect on the time it takes to discharge the capacitor (the discharged capacitor is represented by the green solid line)."
   ]
  },
  {
   "cell_type": "code",
   "execution_count": null,
   "metadata": {},
   "outputs": [],
   "source": [
    "## YOUR TURN: Run this cell. The code is in a separate notebook; you are\n",
    "## welcome to read it, but you do not have to\n",
    "\n",
    "%run ./hidden_RC_widget.ipynb\n",
    "RC_widget() "
   ]
  },
  {
   "cell_type": "markdown",
   "metadata": {
    "id": "tN70GuwJCCFp"
   },
   "source": [
    "# Optional dive in : numerical integration"
   ]
  },
  {
   "cell_type": "markdown",
   "metadata": {},
   "source": [
    "### Euler-Cromer intregration"
   ]
  },
  {
   "cell_type": "markdown",
   "metadata": {
    "id": "7QsAkxQI2Rwk"
   },
   "source": [
    "# Convergence\n",
    "\n"
   ]
  },
  {
   "cell_type": "markdown",
   "metadata": {
    "id": "uKPsrWUA2RCt"
   },
   "source": [
    "Convergence applet "
   ]
  },
  {
   "cell_type": "code",
   "execution_count": null,
   "metadata": {
    "colab": {
     "base_uri": "https://localhost:8080/",
     "height": 631,
     "referenced_widgets": [
      "31060f6aeae24101b57ab52be0ac8f90",
      "84524e51da234e1783d6e380b5a45370",
      "2a84e6e7e679470d8de83c4fcc8009ec",
      "4902940e5e7f4b85b65b1a7352e6d154"
     ]
    },
    "id": "Wz8vjiOW0c2I",
    "outputId": "d957c0a6-46f6-4029-815e-791f2bedc1e2"
   },
   "outputs": [],
   "source": [
    "# Initial Value Problem\n",
    "# Capacitor charging using Euler's method.\n",
    "# Convergence applet.\n",
    "\n",
    "# Setup: we have a battery in series with\n",
    "# a switch, a resistor, and a capacitor.\n",
    "\n",
    "# 2022 Christian Cardozo\n",
    "# cica@mit.edu\n",
    "\n",
    "\n",
    "import numpy as np \n",
    "import matplotlib.pyplot as plt\n",
    "from matplotlib.widgets import Slider\n",
    "\n",
    "class Globals():\n",
    "    def __init__(self):\n",
    "        self.num_plots = 0\n",
    "        self.max_plots = 10\n",
    "        self.dt_prev = None\n",
    "\n",
    "g = Globals()\n",
    "\n",
    "# Make the graph region of the GUI.\n",
    "fig1, ax1 = plt.subplots(figsize=(8,6))\n",
    "\n",
    "# Make two plots\n",
    "plot1 = plt.subplot(1,1,1)\n",
    "\n",
    "# Make a slider for dt\n",
    "dt_slider_ax = plt.axes([0.2,0.015,0.6,0.025])\n",
    "dt_slider = Slider(dt_slider_ax,'dt (s)  ',valmin=1e-1,valmax=1e0,valinit=1e0)\n",
    "dt_slider.vline.set_visible(False)\n",
    "\n",
    "# Clear plots and reset titles\n",
    "def plotconf():\n",
    "    plot1.cla()\n",
    "    plot1.set_xlabel('time (s)')\n",
    "    plot1.set_ylabel('Charge (C)')\n",
    "    plot1.set_title('Charging a Capacitor')\n",
    "    # Print a little spacer in the terminal output\n",
    "    print('--------')\n",
    "\n",
    "# dq/dt equation\n",
    "def dq_dt(q,r,c,vb):\n",
    "        result = -q/(r*c) + vb/r\n",
    "        return(result)\n",
    "\n",
    "# Constants\n",
    "r = 100e3 # resistance, in ohms\n",
    "c = 10e-6 # capacitance, in farads\n",
    "vb = 5 # battery potential, in volts\n",
    "\n",
    "def update(dummy):\n",
    "\n",
    "    # Use the dt slider value as dt\n",
    "    dt = dt_slider.val # timestep size, in seconds\n",
    "    dt = round(dt,2)\n",
    "    if dt != g.dt_prev:\n",
    "        g.dt_prev = dt\n",
    "    else:\n",
    "        return\n",
    "\n",
    "    # Clear plots and reset titles,\n",
    "    # if user has plotted max_plots plots\n",
    "    g.num_plots += 1\n",
    "    if g.num_plots > g.max_plots:\n",
    "        plotconf()\n",
    "        g.num_plots = 0\n",
    "\n",
    "    ##################\n",
    "    # Charging.\n",
    "    # The switch is initially open\n",
    "    # and the capacitor has no charge.\n",
    "    # We will now close the switch.\n",
    "\n",
    "    # Time\n",
    "    ti = 0 # initial time, in seconds\n",
    "    tf = 5 # final time, in seconds\n",
    "\n",
    "    num_steps = int((1/dt)*(tf-ti))\n",
    "\n",
    "    # Initial charge\n",
    "    q = 0\n",
    "    t = ti\n",
    "\n",
    "    ts = [t]\n",
    "    qs = [q]\n",
    "\n",
    "    while t < tf:\n",
    "        # Update values\n",
    "        q = q + dt * dq_dt(q,r,c,vb) # Euler\n",
    "        t += dt # increment time\n",
    "        ts.append(t) # append time to list\n",
    "        qs.append(q) # append charge to list\n",
    "\n",
    "    # Plot all the values!\n",
    "    # plot1.scatter(ts,qs)#,c='r',s=6)\n",
    "    plot1.plot(ts,qs,label='dt = '+str(round(dt,2)))#,c='r')\n",
    "    plot1.legend()\n",
    "\n",
    "\n",
    "\n",
    "\n",
    "dt_slider.on_changed(update)\n",
    "update(0)\n",
    "plt.show()\n"
   ]
  },
  {
   "cell_type": "markdown",
   "metadata": {
    "id": "NAorTQuSVhgD"
   },
   "source": [
    "# References"
   ]
  },
  {
   "cell_type": "markdown",
   "metadata": {
    "id": "RzJ-w7WitM14"
   },
   "source": [
    "Christopher Orban, \"Charging/Discharging RC circuits,\" Published in the PICUP Collection, June 2017, https://doi.org/10.1119/PICUP.Exercise.RC (https://www.compadre.org/PICUP/exercises/exercise.cfm?A=RC)\n",
    "\n",
    "https://www.ippp.dur.ac.uk/~krauss/Lectures/NumericalMethods/index.html\n",
    "\n",
    "https://www.dataquest.io/blog/jupyter-notebook-tips-tricks-shortcuts/\n"
   ]
  },
  {
   "cell_type": "code",
   "execution_count": null,
   "metadata": {
    "id": "O97m6v_cCAEc"
   },
   "outputs": [],
   "source": [
    "# How to make an interactive plot with sliders\n",
    "\n",
    "# Import other libraries\n",
    "\n",
    "import numpy as np\n",
    "import matplotlib.pyplot as plt\n",
    "from matplotlib.widgets import Slider, Button\n",
    " \n",
    "# Create subplot\n",
    "fig, ax = plt.subplots()\n",
    "plt.subplots_adjust(bottom=0.35)\n",
    " \n",
    "# Create and plot sine wave\n",
    "t = np.arange(0.0, 1.0, 0.001)\n",
    "s = 5 * np.sin(2 * np.pi * 3 * t)\n",
    "l, = plt.plot(t, s)\n",
    " \n",
    "# Create axes for frequency and amplitude sliders\n",
    "axfreq = plt.axes([0.25, 0.15, 0.65, 0.03])\n",
    "axamplitude = plt.axes([0.25, 0.1, 0.65, 0.03])\n",
    " \n",
    "# Create a slider from 0.0 to 20.0 in axes axfreq\n",
    "# with 3 as initial value\n",
    "freq = Slider(axfreq, 'Frequency', 0.0, 20.0, 3)\n",
    " \n",
    "# Create a slider from 0.0 to 10.0 in axes axfreq\n",
    "# with 5 as initial value and valsteps of 1.0\n",
    "amplitude = Slider(axamplitude, 'Amplitude', 0.0,\n",
    "                   10.0, 5, valstep=1.0)\n",
    " \n",
    "# Create function to be called when slider value is changed\n",
    " \n",
    "def update(val):\n",
    "    f = freq.val\n",
    "    a = amplitude.val\n",
    "    l.set_ydata(a*np.sin(2*np.pi*f*t))\n",
    " \n",
    "# Call update function when slider value is changed\n",
    "freq.on_changed(update)\n",
    "amplitude.on_changed(update)\n",
    "\n",
    "\n",
    "# Create axes for reset button and create button\n",
    "resetax = plt.axes([0.8, 0.025, 0.1, 0.04])  # Must edit this part\n",
    "button = Button(resetax, 'Reset', color='gold',\n",
    "                hovercolor='skyblue')\n",
    "\n",
    "# Create a function resetSlider to set slider to\n",
    "# initial values when Reset button is clicked\n",
    " \n",
    "def resetSlider(event):\n",
    "    freq.reset()\n",
    "    amplitude.reset()\n",
    "\n",
    " \n",
    "# Call resetSlider function when clicked on reset button\n",
    "button.on_clicked(resetSlider)\n",
    "\n",
    " \n",
    "# display graph\n",
    "plt.show()"
   ]
  }
 ],
 "metadata": {
  "colab": {
   "provenance": [],
   "toc_visible": true
  },
  "kernelspec": {
   "display_name": "Python 3 (ipykernel)",
   "language": "python",
   "name": "python3"
  },
  "language_info": {
   "codemirror_mode": {
    "name": "ipython",
    "version": 3
   },
   "file_extension": ".py",
   "mimetype": "text/x-python",
   "name": "python",
   "nbconvert_exporter": "python",
   "pygments_lexer": "ipython3",
   "version": "3.9.13"
  },
  "widgets": {
   "application/vnd.jupyter.widget-state+json": {
    "1ebd7edc371347cfa98f4a38d54e520a": {
     "model_module": "@jupyter-widgets/base",
     "model_module_version": "1.2.0",
     "model_name": "LayoutModel",
     "state": {
      "_model_module": "@jupyter-widgets/base",
      "_model_module_version": "1.2.0",
      "_model_name": "LayoutModel",
      "_view_count": null,
      "_view_module": "@jupyter-widgets/base",
      "_view_module_version": "1.2.0",
      "_view_name": "LayoutView",
      "align_content": null,
      "align_items": null,
      "align_self": null,
      "border": null,
      "bottom": null,
      "display": null,
      "flex": null,
      "flex_flow": null,
      "grid_area": null,
      "grid_auto_columns": null,
      "grid_auto_flow": null,
      "grid_auto_rows": null,
      "grid_column": null,
      "grid_gap": null,
      "grid_row": null,
      "grid_template_areas": null,
      "grid_template_columns": null,
      "grid_template_rows": null,
      "height": null,
      "justify_content": null,
      "justify_items": null,
      "left": null,
      "margin": null,
      "max_height": null,
      "max_width": null,
      "min_height": null,
      "min_width": null,
      "object_fit": null,
      "object_position": null,
      "order": null,
      "overflow": null,
      "overflow_x": null,
      "overflow_y": null,
      "padding": null,
      "right": null,
      "top": null,
      "visibility": null,
      "width": null
     }
    },
    "2a84e6e7e679470d8de83c4fcc8009ec": {
     "model_module": "jupyter-matplotlib",
     "model_module_version": "^0.11",
     "model_name": "ToolbarModel",
     "state": {
      "_current_action": "",
      "_dom_classes": [],
      "_model_module": "jupyter-matplotlib",
      "_model_module_version": "^0.11",
      "_model_name": "ToolbarModel",
      "_view_count": null,
      "_view_module": "jupyter-matplotlib",
      "_view_module_version": "^0.11",
      "_view_name": "ToolbarView",
      "button_style": "",
      "collapsed": true,
      "layout": "IPY_MODEL_4902940e5e7f4b85b65b1a7352e6d154",
      "orientation": "vertical",
      "toolitems": [
       [
        "Home",
        "Reset original view",
        "home",
        "home"
       ],
       [
        "Back",
        "Back to previous view",
        "arrow-left",
        "back"
       ],
       [
        "Forward",
        "Forward to next view",
        "arrow-right",
        "forward"
       ],
       [
        "Pan",
        "Left button pans, Right button zooms\nx/y fixes axis, CTRL fixes aspect",
        "arrows",
        "pan"
       ],
       [
        "Zoom",
        "Zoom to rectangle\nx/y fixes axis",
        "square-o",
        "zoom"
       ],
       [
        "Download",
        "Download plot",
        "floppy-o",
        "save_figure"
       ]
      ]
     }
    },
    "31060f6aeae24101b57ab52be0ac8f90": {
     "model_module": "jupyter-matplotlib",
     "model_module_version": "^0.11",
     "model_name": "MPLCanvasModel",
     "state": {
      "_cursor": "default",
      "_data_url": "data:image/png;base64,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",
      "_dom_classes": [],
      "_figure_label": "Figure 1",
      "_image_mode": "full",
      "_message": "",
      "_model_module": "jupyter-matplotlib",
      "_model_module_version": "^0.11",
      "_model_name": "MPLCanvasModel",
      "_rubberband_height": 0,
      "_rubberband_width": 0,
      "_rubberband_x": 0,
      "_rubberband_y": 0,
      "_size": [
       576,
       432
      ],
      "_view_count": null,
      "_view_module": "jupyter-matplotlib",
      "_view_module_version": "^0.11",
      "_view_name": "MPLCanvasView",
      "capture_scroll": false,
      "footer_visible": true,
      "header_visible": true,
      "layout": "IPY_MODEL_84524e51da234e1783d6e380b5a45370",
      "pan_zoom_throttle": 33,
      "resizable": true,
      "toolbar": "IPY_MODEL_2a84e6e7e679470d8de83c4fcc8009ec",
      "toolbar_position": "left",
      "toolbar_visible": "fade-in-fade-out"
     }
    },
    "4902940e5e7f4b85b65b1a7352e6d154": {
     "model_module": "@jupyter-widgets/base",
     "model_module_version": "1.2.0",
     "model_name": "LayoutModel",
     "state": {
      "_model_module": "@jupyter-widgets/base",
      "_model_module_version": "1.2.0",
      "_model_name": "LayoutModel",
      "_view_count": null,
      "_view_module": "@jupyter-widgets/base",
      "_view_module_version": "1.2.0",
      "_view_name": "LayoutView",
      "align_content": null,
      "align_items": null,
      "align_self": null,
      "border": null,
      "bottom": null,
      "display": null,
      "flex": null,
      "flex_flow": null,
      "grid_area": null,
      "grid_auto_columns": null,
      "grid_auto_flow": null,
      "grid_auto_rows": null,
      "grid_column": null,
      "grid_gap": null,
      "grid_row": null,
      "grid_template_areas": null,
      "grid_template_columns": null,
      "grid_template_rows": null,
      "height": null,
      "justify_content": null,
      "justify_items": null,
      "left": null,
      "margin": null,
      "max_height": null,
      "max_width": null,
      "min_height": null,
      "min_width": null,
      "object_fit": null,
      "object_position": null,
      "order": null,
      "overflow": null,
      "overflow_x": null,
      "overflow_y": null,
      "padding": null,
      "right": null,
      "top": null,
      "visibility": null,
      "width": null
     }
    },
    "588d40f657914bbd815437c35c67271b": {
     "model_module": "jupyter-matplotlib",
     "model_module_version": "^0.11",
     "model_name": "ToolbarModel",
     "state": {
      "_current_action": "",
      "_dom_classes": [],
      "_model_module": "jupyter-matplotlib",
      "_model_module_version": "^0.11",
      "_model_name": "ToolbarModel",
      "_view_count": null,
      "_view_module": "jupyter-matplotlib",
      "_view_module_version": "^0.11",
      "_view_name": "ToolbarView",
      "button_style": "",
      "collapsed": true,
      "layout": "IPY_MODEL_9311d97ba1ae4fdf8823dfbb65fb7027",
      "orientation": "vertical",
      "toolitems": [
       [
        "Home",
        "Reset original view",
        "home",
        "home"
       ],
       [
        "Back",
        "Back to previous view",
        "arrow-left",
        "back"
       ],
       [
        "Forward",
        "Forward to next view",
        "arrow-right",
        "forward"
       ],
       [
        "Pan",
        "Left button pans, Right button zooms\nx/y fixes axis, CTRL fixes aspect",
        "arrows",
        "pan"
       ],
       [
        "Zoom",
        "Zoom to rectangle\nx/y fixes axis",
        "square-o",
        "zoom"
       ],
       [
        "Download",
        "Download plot",
        "floppy-o",
        "save_figure"
       ]
      ]
     }
    },
    "6841e040d74d495e859b7e8462732430": {
     "model_module": "jupyter-matplotlib",
     "model_module_version": "^0.11",
     "model_name": "MPLCanvasModel",
     "state": {
      "_cursor": "default",
      "_data_url": "data:image/png;base64,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",
      "_dom_classes": [],
      "_figure_label": "Figure 1",
      "_image_mode": "full",
      "_message": "",
      "_model_module": "jupyter-matplotlib",
      "_model_module_version": "^0.11",
      "_model_name": "MPLCanvasModel",
      "_rubberband_height": 0,
      "_rubberband_width": 0,
      "_rubberband_x": 0,
      "_rubberband_y": 0,
      "_size": [
       576,
       432
      ],
      "_view_count": null,
      "_view_module": "jupyter-matplotlib",
      "_view_module_version": "^0.11",
      "_view_name": "MPLCanvasView",
      "capture_scroll": false,
      "footer_visible": true,
      "header_visible": true,
      "layout": "IPY_MODEL_1ebd7edc371347cfa98f4a38d54e520a",
      "pan_zoom_throttle": 33,
      "resizable": true,
      "toolbar": "IPY_MODEL_588d40f657914bbd815437c35c67271b",
      "toolbar_position": "left",
      "toolbar_visible": "fade-in-fade-out"
     }
    },
    "84524e51da234e1783d6e380b5a45370": {
     "model_module": "@jupyter-widgets/base",
     "model_module_version": "1.2.0",
     "model_name": "LayoutModel",
     "state": {
      "_model_module": "@jupyter-widgets/base",
      "_model_module_version": "1.2.0",
      "_model_name": "LayoutModel",
      "_view_count": null,
      "_view_module": "@jupyter-widgets/base",
      "_view_module_version": "1.2.0",
      "_view_name": "LayoutView",
      "align_content": null,
      "align_items": null,
      "align_self": null,
      "border": null,
      "bottom": null,
      "display": null,
      "flex": null,
      "flex_flow": null,
      "grid_area": null,
      "grid_auto_columns": null,
      "grid_auto_flow": null,
      "grid_auto_rows": null,
      "grid_column": null,
      "grid_gap": null,
      "grid_row": null,
      "grid_template_areas": null,
      "grid_template_columns": null,
      "grid_template_rows": null,
      "height": null,
      "justify_content": null,
      "justify_items": null,
      "left": null,
      "margin": null,
      "max_height": null,
      "max_width": null,
      "min_height": null,
      "min_width": null,
      "object_fit": null,
      "object_position": null,
      "order": null,
      "overflow": null,
      "overflow_x": null,
      "overflow_y": null,
      "padding": null,
      "right": null,
      "top": null,
      "visibility": null,
      "width": null
     }
    },
    "9311d97ba1ae4fdf8823dfbb65fb7027": {
     "model_module": "@jupyter-widgets/base",
     "model_module_version": "1.2.0",
     "model_name": "LayoutModel",
     "state": {
      "_model_module": "@jupyter-widgets/base",
      "_model_module_version": "1.2.0",
      "_model_name": "LayoutModel",
      "_view_count": null,
      "_view_module": "@jupyter-widgets/base",
      "_view_module_version": "1.2.0",
      "_view_name": "LayoutView",
      "align_content": null,
      "align_items": null,
      "align_self": null,
      "border": null,
      "bottom": null,
      "display": null,
      "flex": null,
      "flex_flow": null,
      "grid_area": null,
      "grid_auto_columns": null,
      "grid_auto_flow": null,
      "grid_auto_rows": null,
      "grid_column": null,
      "grid_gap": null,
      "grid_row": null,
      "grid_template_areas": null,
      "grid_template_columns": null,
      "grid_template_rows": null,
      "height": null,
      "justify_content": null,
      "justify_items": null,
      "left": null,
      "margin": null,
      "max_height": null,
      "max_width": null,
      "min_height": null,
      "min_width": null,
      "object_fit": null,
      "object_position": null,
      "order": null,
      "overflow": null,
      "overflow_x": null,
      "overflow_y": null,
      "padding": null,
      "right": null,
      "top": null,
      "visibility": null,
      "width": null
     }
    }
   }
  }
 },
 "nbformat": 4,
 "nbformat_minor": 1
}
